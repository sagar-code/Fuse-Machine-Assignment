{
 "cells": [
  {
   "cell_type": "markdown",
   "metadata": {},
   "source": [
    "**Data Analysis and Visualization**"
   ]
  },
  {
   "cell_type": "code",
   "execution_count": 1,
   "metadata": {},
   "outputs": [],
   "source": [
    "# importing require libraries\n",
    "import numpy as np\n",
    "import pandas as pd\n",
    "import matplotlib.pyplot as plt\n",
    "%matplotlib inline\n",
    "\n",
    "import seaborn as sns"
   ]
  },
  {
   "cell_type": "code",
   "execution_count": 2,
   "metadata": {},
   "outputs": [
    {
     "data": {
      "text/html": [
       "<div>\n",
       "<style scoped>\n",
       "    .dataframe tbody tr th:only-of-type {\n",
       "        vertical-align: middle;\n",
       "    }\n",
       "\n",
       "    .dataframe tbody tr th {\n",
       "        vertical-align: top;\n",
       "    }\n",
       "\n",
       "    .dataframe thead th {\n",
       "        text-align: right;\n",
       "    }\n",
       "</style>\n",
       "<table border=\"1\" class=\"dataframe\">\n",
       "  <thead>\n",
       "    <tr style=\"text-align: right;\">\n",
       "      <th></th>\n",
       "      <th>Phrase</th>\n",
       "      <th>label</th>\n",
       "    </tr>\n",
       "  </thead>\n",
       "  <tbody>\n",
       "    <tr>\n",
       "      <td>0</td>\n",
       "      <td>Spider-man is better than any summer blockbust...</td>\n",
       "      <td>Positive</td>\n",
       "    </tr>\n",
       "    <tr>\n",
       "      <td>1</td>\n",
       "      <td>of good sense</td>\n",
       "      <td>Positive</td>\n",
       "    </tr>\n",
       "    <tr>\n",
       "      <td>2</td>\n",
       "      <td>, then knock yourself out and enjoy the big sc...</td>\n",
       "      <td>Negative</td>\n",
       "    </tr>\n",
       "    <tr>\n",
       "      <td>3</td>\n",
       "      <td>So could young romantics out on a date .</td>\n",
       "      <td>Positive</td>\n",
       "    </tr>\n",
       "    <tr>\n",
       "      <td>4</td>\n",
       "      <td>humour</td>\n",
       "      <td>Positive</td>\n",
       "    </tr>\n",
       "  </tbody>\n",
       "</table>\n",
       "</div>"
      ],
      "text/plain": [
       "                                              Phrase     label\n",
       "0  Spider-man is better than any summer blockbust...  Positive\n",
       "1                                      of good sense  Positive\n",
       "2  , then knock yourself out and enjoy the big sc...  Negative\n",
       "3           So could young romantics out on a date .  Positive\n",
       "4                                             humour  Positive"
      ]
     },
     "execution_count": 2,
     "metadata": {},
     "output_type": "execute_result"
    }
   ],
   "source": [
    "# load dataset\n",
    "df = pd.read_csv('sentiment.csv')\n",
    "df.head()"
   ]
  },
  {
   "cell_type": "code",
   "execution_count": 3,
   "metadata": {},
   "outputs": [
    {
     "data": {
      "text/plain": [
       "(2800, 2)"
      ]
     },
     "execution_count": 3,
     "metadata": {},
     "output_type": "execute_result"
    }
   ],
   "source": [
    "# shape of the dataset\n",
    "df.shape"
   ]
  },
  {
   "cell_type": "code",
   "execution_count": 4,
   "metadata": {},
   "outputs": [
    {
     "data": {
      "text/plain": [
       "Positive    1800\n",
       "Negative    1000\n",
       "Name: label, dtype: int64"
      ]
     },
     "execution_count": 4,
     "metadata": {},
     "output_type": "execute_result"
    }
   ],
   "source": [
    "# checking how many positive or negative values are there\n",
    "df.label.value_counts()"
   ]
  },
  {
   "cell_type": "code",
   "execution_count": 5,
   "metadata": {},
   "outputs": [
    {
     "data": {
      "text/plain": [
       "Phrase    0\n",
       "label     0\n",
       "dtype: int64"
      ]
     },
     "execution_count": 5,
     "metadata": {},
     "output_type": "execute_result"
    }
   ],
   "source": [
    "# checking the null values\n",
    "df.isnull().sum()"
   ]
  },
  {
   "cell_type": "code",
   "execution_count": 6,
   "metadata": {},
   "outputs": [
    {
     "name": "stdout",
     "output_type": "stream",
     "text": [
      "['Spider-man', 'is', 'better', 'than', 'any', 'summer', 'blockbuster', 'we', 'had', 'to', 'endure', 'last', ',', 'and', 'hopefully', 'sets', 'the', 'tone', 'for', 'a', 'of', 'good', 'stuff', '.', 'sense', 'then', 'knock', 'yourself', 'out', 'enjoy', 'big', 'screen', 'postcard', 'that', 'self-glorified', 'Martin', 'Lawrence', 'lovefest', 'So', 'could', 'young', 'romantics', 'on', 'date', 'humour', 'You', 'bet', 'there', 'it', \"'s\", 'what', 'makes', 'this', 'rather', 'convoluted', 'journey', 'worth', 'taking', 'tries', 'more', 'Screenwriter', 'Chris', 'ver', 'Weil', 'directing', 'debut', 'good-natured', 'never', 'dull', 'but', 'mood', 'in', 'which', 'an', 'ominous', 'pervasive', 'unknown', 'threat', 'lurks', 'just', 'below', 'proceedings', 'adds', 'almost', 'constant', 'mindset', 'suspense', 'centers', 'midlife', 'crisis', 'hate', 'putting', 'together', 'movies', 'particular', 'value', 'or', 'merit', 'sensual', 'funny', 'Some', 'computer', 'animation', 'handsome', 'right', 'questions', 'solid', '--', 'as', 'if', 'director', 'trying', 'dupe', 'viewer', 'into', 'all', 'Very', 'Important', 'simply', 'because', 'movie', 'ugly', 'look', 'at', 'not', 'Hollywood', 'product', 'thriller', 'once', 'too', 'often', 'war', 'One', 'year', 'most', 'weirdly', 'engaging', 'unpredictable', 'character', 'pieces', 'brilliant', 'they', 'do', \"n't\", 'fit', 'well', 'keep', 'interested', 'proves', 'sometimes', 'dreams', 'youth', 'should', 'remain', 'hack', 'Fire', 'nostalgic', 'twisty', 'yarn', 'will', 'them', 'guessing', 'brings', 'proper', 'conviction', 'his', 'role', '-LRB-', 'Jason', 'Bourne', '-RRB-', 'delicious', 'pulpiness', 'its', 'lurid', 'fiction', 'stylized', 'with', 'touch', 'John', 'Woo', 'bullet', 'ballet', 'you', \"'re\", 'entirely', 'unprepared', 'clever', 'credits', 'roll', 'ploughing', 'same', 'furrow', 'gently', 'swaying', 'back', 'forth', 'cradles', 'characters', 'veiling', 'tension', 'beneath', 'otherwise', 'tender', 'movements', '`', 'laugh', 'therapy', \"'\", 'whose', 'view', 'America', 'history', 'awkwardness', 'human', 'life', 'generous', 'deep', 'like', 'work', 'artist', 'who', 'tired', 'fighting', 'fights', 'weight', 'world', 'shoulders', 'playing', 'narrative', 'form', 'pair', 'fascinating', 'performances', 'Phillip', 'Noyce', 'actors', 'cinematographer', 'Christopher', 'Doyle', 'understand', 'delicate', 'forcefulness', 'Greene', 'prose', 'impossible', 'care', 'about', 'very', 'impression', 'evoke', 'memories', 'emotions', 'are', 'anything', 'drag', 'reek', 'script', 'A', 'well-made', 'humane', 'children', 'film', 'truest', 'plays', 'dramatic', 'Invigorating', 'surreal', 'resonant', 'rainbow', 'emotion', 'might', 'Vulgar', 'bilingual', 'charmer', 'can', 'honestly', 'describe', 'looking', 'sounding', 'feeling', 'no', 'other', 'recent', '``', 'Austin', 'Powers', 'Goldmember', \"''\", 'has', 'silly', 'entertainment', 'enough', 'laughs', 'sustain', 'interest', 'end', 'aims', 'be', 'uplifting', 'moving', 'occasional', 'smiles', 'surprisingly', 'achievement', 'really', 'special', 'walk', 'woods', 'show', 'us', 'time', 'courage', 'ideas', 'technical', 'proficiency', 'evil', 'monstrous', 'lunatic', 'strong', 'themes', 'familial', 'ties', 'well-intentioned', 'effort', 'still', 'burdened', 'by', 'actor', 'sneaky', 'feel', 'several', 'old', 'unintentional', 'parallels', 'inadvertently', 'humorous', 'so', 'intimate', 'psychologically', 'self-revealing', 'passes', 'sex', 'cheap', 'hysterics', 'This', 'some', 'honest', 'insight', 'black-and-white', 'inspires', 'cliche', 'happy', 'ending', 'Swedish', 'fillm', 'modern', 'city', 'first', 'computer-generated', 'feature', 'cartoon', 'have', 'been', 'funnier', 'released', 'outtakes', 'theatrically', 'used', 'bonus', 'DVD', 'visual', 'charm', 'would', 'hard', 'sitting', 'through', 'one', 'spirals', 'downward', 'inoffensive', 'goose', 'fun', 'over-indulgent', 'tirade', 'love', 'story', 'sanguine', 'title', 'More', 'vaudeville', 'well-constructed', 'Takes', 'clunky', 'TV-movie', 'approach', 'detailing', 'chapter', 'celebrated', 'Irish', 'playwright', 'poet', 'drinker', 'confident', 'filmmaking', 'much-needed', 'levity', 'disappointed', 'lets', 'brush', 'up', 'against', 'humanity', 'psycho', 'without', 'making', 'him', 'less', 'the-night', 'pat', 'storylines', 'precious', 'circumstances', 'beautiful', 'stars', 'success', 'wonderful', 'Madonna', 'gives', 'her', 'best', 'performance', 'since', 'Abel', 'Ferrara', 'beaten', 'pulp', 'Dangerous', 'Game', 'Eight', 'Legged', 'Freaks', 'perfectly', 'entertaining', 'diversion', 'contemplation', 'fused', 'eerie', 'atmosphere', 'deceit', 'insanely', 'violent', 'graphic', 'Starts', 'mediocre', 'thuds', 'bottom', 'pool', 'utterly', 'incompetent', 'conclusion', 'An', 'unsettling', 'memorable', 'cinematic', 'experience', 'coming', 'down', 'off', 'Miramax', 'shelves', 'after', 'couple', 'aborted', 'attempts', 'sweet', 'At', 'when', 'commercialism', 'squeezed', 'whatever', 'idealism', 'American', 'moviemaking', 'ever', 'Godfrey', 'Reggio', 'career', 'shines', 'lonely', 'beacon', 'tryingly', 'Keenly', 'observed', 'refreshingly', 'natural', 'mainstream', 'audiences', 'rarely', 'seen', 'indication', 'Got', 'depress', 'itself', 'Superbly', 'Filmmaker', 'Tian', 'Zhuangzhuang', 'triumphantly', 'returns', 'visually', 'masterful', 'quiet', 'power', 'captures', 'innocence', 'budding', 'demons', 'within', 'wallflower', 'created', 'monster', 'did', 'know', 'how', 'handle', 'If', 'horror', 'primary', 'goal', 'frighten', 'disturb', 'They', 'works', 'spectacularly', '...', 'shiver-inducing', 'nerve-rattling', 'ride', 'give', 'accurate', 'thought', 'right-thinking', 'films', 'revel', 'splendor', 'Feels', 'Even', 'fans', 'Ismail', 'Merchant', 'I', 'suspect', 'indie', 'powerful', 'people', 'fully', 'does', 'leave', 'much', 'ham-fisted', 'introspective', 'independent', 'thoughtful', 'art', 'ethics', 'cost', 'moral', 'compromise', 'B', 'Perhaps', 'call', 'refreshing', 'endless', 'assault', 'embarrassingly', 'jokes', 'Reeks', 'rot', 'home', 'French', 'shocker', 'usual', 'bad', 'boy', 'weirdo', 'team', 'offbeat', 'humor', 'amusing', 'warmest', 'relic', 'from', 'bygone', 'era', 'convolutions', 'plausible', 'bizarre', 'Although', 'fairly', 'involving', 'far', 'goes', 'having', 'fresh', 'say', 'growing', 'Catholic', 'uncluttered', 'gem', 'leaps', 'over', 'national', 'boundaries', 'celebrates', 'universal', 'nature', 'waxes', 'poetic', 'our', 'taste', 'amazing', 'slapstick', 'instrument', 'different', 'own', 'yet', 'instantly', 'recognizable', 'heroes', 'try', 'avoid', 'succeed', 'few', 'cool', 'seems', 'aware', 'coolness', 'little', 'recommend', 'Snow', 'Dogs', 'Waking', 'Up', 'Reno', 'case', 'letting', 'sleeping', 'dogs', 'lie', 'The', 'rehashes', 'capped', 'pointless', 'extremes', 'hellish', 'conditions', 'feels', 'pretty', 'execution', 'pomposity', 'solving', 'problem', 'distract', 'solution', 'another', 'poorly', 'delivered', 'smug', 'self-satisfaction', 'usually', 'associated', 'private', 'schools', 'alone', 'force', 'scratch', 'hole', 'your', 'head', 'experimental', 'storytelling', 'losing', 'stooping', 'base', 'melodrama', 'decent', 'material', 'music', 'lot', 'richer', 'ones', 'action', 'screenwriters', 'come', 'their', 'loosely-connected', 'string', 'mythic', 'constructs', 'relays', 'points', 'lectures', 'confrontations', 'beyond', 'comprehension', 'even', 'were', 'Moonlight', 'Mile', 'judgment', 'damned', 'Hartley', 'emphasizes', 'well-wrought', 'omits', 'needless', 'chase', 'scenes', 'swordfights', 'revenge', 'unfolds', 'all-enveloping', 'Provides', 'kind', 'need', 'comedies', 'spiritual', 'riveting', 'set', 'comedy', 'equivalent', 'song', 'finally', 'found', 'vent', 'Importance', 'Being', 'Earnest', 'thick', 'wit', 'reading', 'Bartlett', 'Familiar', 'Quotations', 'gritty', 'major', 'weird', 'Masterpiece', 'Theater', 'sketch', 'neither', 'concentrating', 'elements', 'revealing', 'alienation', 'among', 'culture', 'sadly', 'hostile', 'odds', 'recklessness', 'retaliation', 'When', 'rich', 'luscious', 'nuances', 'empty', 'intrigue', 'betrayal', 'murder', 'light', 'Errol', 'Morris', 'focusing', 'eccentricity', 'failing', 'ultimately', 'make', 'something', 'bigger', 'scrapbook', 'oddballs', 'attract', 'upscale', 'hungry', 'quality', 'corny', 'examination', 'affecting', 'portrait', 'screwed-up', 'man', 'dared', 'mess', 'Written', 'flatly', 'Mr.', 'Polanski', 'element', 'here', 'zingers', 'barely', 'defensible', 'sexual', 'violence', 'Inventive', 'intoxicatingly', 'sexy', 'self-indulgent', 'maddening', 'example', 'lush', 'predictable', 'reassuring', 'manner', 'beautifully', 'sung', 'holiday', 'carol', 'vapid', 'exercise', 'Best', 'delivers', 'perfect', 'get', 'breezy', 'blend', 'banality', 'big-screen', 'remakes', 'Avengers', 'Wild', 'West', 'crafted', 'wisecracking', 'Mystery', 'Science', '3000', 'guys', 'keeps', 'IMAX', 'short', 'X', 'blab', 'what-if', 'photographed', 'staged', 'Mendes', 'series', 'vulgar', 'forgettably', 'dark', 'real', 'reason', 'made', 'Mamet', 'House', 'Games', 'fall', 'Heist', 'prevention', 'place', 'blame', 'baseball', 'macabre', 'where', 'religious', 'civic', 'virtues', 'hold', 'society', 'tatters', 'Both', 'lead', 'Oscar-size', 'actually', 'filmmakers', 'want', 'nothing', 'else', 'way', 'Whenever', 'threatens', 'bogged', 'earnest', 'dramaturgy', 'fairy', 'tale', 'comes', 'renowned', 'Indian', 'allows', 'Americans', 'preposterous', 'moments', 'seeking', 'Like', 'sizzle', 'news', 'exotic', 'creatures', 'overboard', 'loony', 'melodramatic', 'denouement', 'high', 'school', 'swimming', 'substitutes', 'bathtub', 'evanescent', 'seamless', 'sumptuous', 'stream', 'consciousness', 'only', 'quest', 'president', 'single-handedly', 'turned', 'plane', 'full', 'hard-bitten', 'cynical', 'journalists', 'was', 'essentially', 'campaign', 'extended', 'publicity', 'department', 'graced', 'Poor', 'editing', 'bluescreen', 'ultra-cheesy', 'dialogue', 'complex', 'those', 'crass', 'contrived', 'sequels', 'fails', 'second-guess', 'affection', 'original', 'position', 'Thanks', 'largely', 'emotionally', 'least', 'Wiseman', 'fatal', 'error', 'flash', 'rock', 'videos', 'rip-roaring', 're-creations', 'famous', 'gratuitous', 'distractions', 'chuckles', 'gag', 'positively', 'thrilling', 'combination', 'ethnography', 'good-bad', 'Eerily', 'moment', 'high-concept', 'candy-coat', 'spirituality', 'definite', 'room', 'improvement', 'Robert', 'Harmon', 'less-is-more', 'bump-in', '-', 'chills', 'greatest', 'triumph', 'keeping', 'creepy', 'crawlies', 'hidden', 'shadows', 'hews', 'carries', 'effortlessly', 'darkness', 'wondering', 'lives', 'offers', 'opportunities', 'Cinema', 'Paradiso', 'find', 'new', 'interesting', \"'d\", 'probably', 'turn', 'convinced', 'already', 'employ', 'kids', 'owe', 'favors', 'parents', 'companion', 'Its', 'generic', 'villains', 'lack', 'accents', 'cinema', 'wondrously', 'gifted', 'artists', 'Arthur', 'Schnitzler', 'Reigen', 'Sy', 'open-faced', 'smiling', 'madmen', 'difficult', 'worthy', 'airless', 'shell', 'games', 'latest', 'eccentric', 'super-wealthy', 'megalomaniac', 'bent', 'domination', 'destruction', 'romantic', 'Proves', 'formulas', 'messing', 'serves', 'workable', 'primer', 'region', 'Manages', 'please', 'intended', 'audience', 'placing', 'coma-like', 'state', 'occurs', '7', 'times', 'during', 'Windtalkers', 'serious-minded', 'modest', 'winning', 'misses', 'prisoner', 'Smoke', 'Signals', 'also', 'imbued', 'paralyzed', 'stoner', 'midnight', 'flick', 'sci-fi', 'deconstruction', 'cliches', 'considerable', 'dash', 'running', 'around', 'screaming', 'death', 'style', 'sincere', 'veers', 'comic', 'course', 'It', 'gets', 'doubt', 'asks', 'country', 'serious', 'ways', 'extravagant', 'chance', 'distort', 'perspective', 'throw', 'path', 'incoherence', 'despite', 'impressed', 'upon', 'injects', 'freshness', 'acting-workshop', 'exercises', 'Saddam', 'Hussein', 'In', 'cut', 'rhapsodizes', 'add', 'bleak', 'Trouble', '25', 'minutes', 'gratitude', 'basic', 'comedic', 'likes', 'franchise', 'years', 'small', 'easily', 'overshadowed', 'predictability', 'esoteric', 'musings', 'philosophy', 'emotional', 'connections', 'absorbing', 'Scarcely', 'expense', 'paid', 'pay', 'see', 'shows', 'slice', 'production', 'values', 'Malcolm', 'D.', 'Lee', 'writer', 'Ridley', 'Downright', 'transparent', 'rewrite', 'designed', 'garner', 'cooler', 'PG-13', 'rating', 'welcome', 'relief', 'stop', 'mom', 'amiable', 'degree', 'randomness', 'achieved', 'lottery', 'drawing', 'plotting', 'details', 'promenade', 'clad', 'bodies', 'Myrtle', 'Beach', 'S.C.', 'adrenaline', 'jolt', 'sudden', 'lunch', 'rush', 'diner', 'unfocused', 'hero', 'open', 'devolves', 'ends', 'satire', 'mind', 'adolescent', 'demanding', 'regular', 'shocks', 'bouts', 'Mostly', 'Martha', 'mostly', 'unsurprising', 'And', 'appreciate', 'one-sided', 'theme', 'predecessors', 'sensational', 'true-crime', 'theatres', 'many', 'things', 'delectable', 'everything', 'expect', 'number', 'tumbleweeds', 'blowing', 'terms', 'bites', 'chew', 'linking', 'massacre', 'Armenians', '1915', 'relationships', 'present', 'rut', 'life-changing', 'encounters', 'bagatelle', 'nearly', 'epic', 'proportions', 'Violent', 'superior', 'stale', 'uninspired', 'toxic', 'intoxicating', 'may', 'believe', 'puts', 'battle', 'wills', 'revelatory', 'narcissistic', 'morality', 'While', 'About', 'Boy', 'provide', 'enjoyable', '100', 'theater', 'Swimfan', 'Fatal', 'Attraction', 'brilliantly', 'played', 'deeply', 'highest', 'wears', 'Mark', 'Pellington', 'pop', 'kooky', 'overeager', 'spooky', 'subtly', 'myth', 'Mediocre', \"'m\", 'ready', 'go', 'U.N.', 'ask', 'permission', 'preemptive', 'strike', 'occasionally', 'horrifying', 'inspiring', 'expected', 'grace', 'Miyazaki', 'storytellers', 'achieving', 'cliched', 'perverse', 'escapism', 'Charming', 'apart', 'reporting', 'flickering', 'reminders', 'bind', 'Mood', 'Beautifully', 'miss', 'joyous', 'unless', 'considers', 'source', 'hilarity', 'sure', 'filmmaker', 'disagree', 'point', 'chronicle', 'smart', 'provocative', 'drama', ':', 'mention', 'company', 'overexposed', 'waste', 'gorgeously', 'atmospheric', 'meditation', 'Beating', 'sad', 'professional', 'conventional', 'comedy-drama', 'post-camp', 'old-time', 'Run', 'Do', 'judge', 'soon', 'Bloody', 'grieving', 'process', 'transcends', 'boy-meets-girl', 'posturing', 'typical', 'stories', 'outnumber', 'hits', 'three-to-one', 'appropriate', 'compelling', 'increasingly', 'diverse', 'seeing', 'great', 'deal', 'though', 'Sillier', 'cuter', 'shorter', 'remember', 'bit', 'heavy', 'handed', 'message', 'recommended', 'viewing', 'acting', 'Spielberg', 'realization', 'near-future', 'Horrendously', 'amateurish', 'plainly', 'incomprehensible', 'recognized', 'mildly', 'Changing', 'Lanes', 'mystical', 'Robinson', 'web', 'matches', 'page-turning', 'frenzy', 'Clancy', 'creates', 'heavy-handed', 'screenplay', 'Too', 'clumsy', 'key', 'splash', 'absolute', 'joy', 'poetry', 'common', 'through-line', 'pinnacle', 'going', 'house', 'party', 'watching', 'host', 'defend', 'himself', 'frothing', 'ex-girlfriend', 'sophomoric', 'romp', 'happen', 'Has', 'rare', 'capability', 'soothe', 'break', 'heart', 'single', 'stroke', 'tragedy', 'record', 'tenacious', 'fighter', 'victim', 'Well-done', 'supernatural', 'catch', 'lacks', 'quick', 'Steven', 'Schindler', 'List', 'Williams', 'developments', 'processed', '60', 'intellectual', 'lector', 'auteur', 'injuries', 'Parents', 'beware', ';', 'hopeful', 'maintaining', 'appearance', 'clinical', 'objectivity', 'start', 'speeds', 'Burr', 'Steers', 'knows', 'territory', 'particularly', 'Witty', 'Those', 'saved', 'aid', 'teeth', 'hurt', 'mawkish', 'self-parody', 'hardly', 'exist', 'responsible', 'generates', 'plot', 'What', 'begins', 'evolves', 'Imax', 'chimps', 'lots', 'blown', 'size', 'latently', 'gay', 'scattered', 'bogus', 'There', 'grenade', 'rooted', 'undergoing', 'cares', '?', 'Judith', 'Zaza', 'bedroom', 'sequence', 'bulk', 'wrong', 'heartfelt', 'middle', 'dedication', 'Aggressive', 'self-glorification', 'manipulative', 'whitewash', 'consistently', 'unimaginative', 'sophisticated', 'literate', 'such', 'pictures', 'standard', 'procedure', 'prince', 'fellow', 'survival', 'awkwardly', 'magic', 'realism', 'meaty', 'face', 'thing', 'tackled', 'subject', 'drawn', 'while', 'peppering', 'pages', 'Analyze', 'That', 'popcorn', 'Every', 'Day', 'plodding', 'Vincent', 'Gallo', 'finish', 'meaning', 'phrase', 'rambling', 'living', 'mug', 'shots', 'impeccable', 'pedigree', 'mongrel', 'pep', 'Uneven', 'nice', 'prove', 'potent', 'hell-jaunt', 'purists', 'Tolstoy', 'groupies', 'tricky', 'satisfying', 'sharp', 'homage', 'Them', 'Tarantula', 'low', '10', 'compressed', 'Tells', 'terrific', '10th-grade', 'learning', 'tool', 'smartly', 'fact', 'Disney', 'scrape', 'me', 'successful', 'dragons', 'Reign', 'Shainberg', 'adaptation', 'gander', 'amuses', 'none', 'amounts', 'Sleek', 'arty', 'daring', 'verve', 'outpaces', 'contemporaries', 'weak', 'wounds', 'inspired', 'indecipherable', 'complications', 'he', 'revealed', 'before', 'abandoned', 'consoled', 'depiction', 'depression', 'non-techies', 'Though', 'rent', 'parable', 'inexorably', 'rote', 'sentimentality', 'Hampered', \"'ve\", 'feature-length', 'antics', 'pleasure', 'cracker', 'barrel', 'reaction', 'subjects', 'furiously', 'Genuinely', 'unnerving', 'mesmerizing', '', 'disguised', 'images', 'attracts', 'unnamed', 'substitutable', 'forces', 'serve', 'terror', \"'ll\", 'admit', 'my', 'complaint', 'Amid', 'shock', 'curiosity', 'factors', 'actress', 'idealistic', 'kid', 'chooses', 'champion', 'cause', 'pretentiousness', 'Damon', 'Wilde', 'surprising', 'lazy', 'budget', 'B-movie', 'thrillers', '1950s', \"'60s\", 'Campanella', 'directed', 'expedience', 'roiling', 'documentary', 'Sunday', 'flair', 'slight', 'poem', 'eyes', 'put', 'hairs', 'chest', 'told', 'liking', 'Ice', 'Age', 'given', 'day', 'comprehensible', 'Dummies', 'guide', 'Daughter', 'frame', 'Intriguing', 'downright', 'completely', 'emphasis', 'James', 'Eric', 'Horton', 'Peter', \"O'Fallon\", 'stirring', 'dog', 'Winds', 'being', 'both', 'surge', 'swirling', 'rapids', 'leap', 'rouses', 'mainland', 'setting', 'Transforms', 'Shakespeare', 'deepest', 'tragedies', 'proud', 'Ki-Deok', 'After', 'woman', 'run-of-the-mill', 'ruthless', 'social', 'order', 'governs', 'college', 'cliques', 'flame-like', 'trembling', 'progression', 'two', 'skittish', 'New', 'York', 'middle-agers', 'stumble', 'relationship', 'struggle', 'fears', 'foibles', 'Mary', 'Gaitskill', 'harrowing', 'improved', 'destination', 'mixed', 'results', 'escapades', 'demonstrating', 'adage', 'wo', 'safe', 'Plays', 'vignettes', 'clips', 'Pow', 'Swimming', 'radical', 'Just', 'everyone', 'involved', 'coasting', 'But', 'followed', 'runaway', 'Full', 'Monty', 'inept', 'Jones', 'Evokes', 'David', 'raunch', 'favor', 'gags', 'rely', 'strength', 'cleverness', 'Report', 'card', 'Does', 'live', 'exalted', 'tagline', 'sidekicks', 'Devos', 'Oedekerk', 'childhood', 'dream', 'martial-arts', 'lose', 'above', 'Shakespearean', 'Less', 'efforts', 'toward', 'closure', 'highlight', 'Spalding', 'Gray', 'teen', 'gross-out', 'Love', 'Hong', 'Kong', 'From', 'Danang', 'reveals', 'scientific', 'law', 'discerned', 'producers', 'heed', 'Hatfield', 'Hicks', 'oddest', 'couples', 'becomes', 'study', 'gambles', 'publishing', 'offering', 'exists', 'political', 'ramifications', 'glacial', 'pacing', 'fan', 'fantasia', 'Monte', 'Cristo', 'war-ravaged', 'land', 'unlikely', 'Sarah', 'Harrison', 'keen', 'insights', 'parapsychological', 'phenomena', 'soulful', 'Jolting', 'under', 'skin', 'freakish', 'seem', 'saw', 'TV', '300', 'Russian', 'mighty', 'Ivan', 'swear', 'rest', 'game', 'hooked', 'As', 'Storytelling', 'version', 'Quiet', 'creature-feature', 'Shyamalan', 'boilerplate', 'punch', 'lines', 'unfortunately', 'double-cross', 'Swinging', 'hobby', 'Nothing', 'various', 'eventually', 'All', 'arch', 'cold-blooded', 'Claude', 'Chabrol', 'camera', 'Entertains', 'Kim', 'tenderness', 'takes', 'generate', 'heat', 'juicy', 'soap', 'opera', 'Cho', 'creating', 'navigates', 'fast', 'fade', '!', 'blaxploitation', 'spoof', 'downplays', 'opposed', 'extent', 'outrageousness', 'fest', 'Using', 'stock', 'scruffy', 'slip', 'convincing', 'dizzily', 'gorgeous', 'nor', 'Narratively', 'drive-by', 'tentative', 'familiar', 'anti-feminist', 'equation', '=', 'misery', 'ambition', 'whole', 'staring', 'Kendall', 'structure', 'Offers', 'Initial', 'strangeness', 'Q', 'Quirky', 'Now', 'former', 'Gong', 'Show', 'addict', 'enthusiasm', 'Not', 'scares', 'cross', 'chemicals', 'bunch', 'totally', 'unexpected', 'directions', 'Green', 'arriving', 'core', 'Tartakovsky', 'powers', 'memory', 'monsterous', 'penance', 'cowering', 'begging', 'feet', 'Giannini', 'Narc', 'strikes', 'defiantly', 'retro', 'chord', 'willingness', 'experiment', 'explosions', 'early', 'trusted', 'sort', 'toothless', 'book', 'Favor', 'document', 'Comes', 'across', 'Highly', 'Contrived', 'depressing', 'ruthlessly', 'pained', 'depraved', 'wound', 'Scherfig', 'five', 'writers', 'He', 'Fresnadillo', 'Videodrome', '100-minute', 'Something', 'co-writer', 'Ed', 'Decter', 'senses', 'mean-spirited', 'Before', 'broken', 'outweighs', 'loss', 'witness', 'visible', 'His', 'preach', 'exclusively', 'converted', 'Writer\\\\/director', 'Kung', 'Seeing', 'momentum', 'remains', 'undeterminable', 'roughshod', 'sensibilities', 'makers']\n"
     ]
    }
   ],
   "source": [
    "# finding the unique values from the phrase\n",
    "unique_words = list(df['Phrase'].str.split(' ', expand=True).stack().unique())\n",
    "\n",
    "print(unique_words)"
   ]
  },
  {
   "cell_type": "code",
   "execution_count": 7,
   "metadata": {},
   "outputs": [
    {
     "name": "stdout",
     "output_type": "stream",
     "text": [
      "the         995\n",
      ",           817\n",
      "a           740\n",
      "and         702\n",
      "of          701\n",
      "           ... \n",
      "His           1\n",
      "Scherfig      1\n",
      "spoof         1\n",
      "bunch         1\n",
      "safe          1\n",
      "Length: 1979, dtype: int64\n"
     ]
    }
   ],
   "source": [
    "# count the unique word from phrase\n",
    "unique_word_count = df.Phrase.str.split(' ', expand=True).stack().value_counts()\n",
    "\n",
    "print(unique_word_count)"
   ]
  },
  {
   "cell_type": "markdown",
   "metadata": {},
   "source": [
    "Here, the must frequent word is `the` and total number of unique words is `1979`."
   ]
  },
  {
   "cell_type": "code",
   "execution_count": 8,
   "metadata": {},
   "outputs": [
    {
     "data": {
      "text/html": [
       "<div>\n",
       "<style scoped>\n",
       "    .dataframe tbody tr th:only-of-type {\n",
       "        vertical-align: middle;\n",
       "    }\n",
       "\n",
       "    .dataframe tbody tr th {\n",
       "        vertical-align: top;\n",
       "    }\n",
       "\n",
       "    .dataframe thead th {\n",
       "        text-align: right;\n",
       "    }\n",
       "</style>\n",
       "<table border=\"1\" class=\"dataframe\">\n",
       "  <thead>\n",
       "    <tr style=\"text-align: right;\">\n",
       "      <th></th>\n",
       "      <th>Phrase</th>\n",
       "      <th>label</th>\n",
       "      <th>WordCount</th>\n",
       "    </tr>\n",
       "  </thead>\n",
       "  <tbody>\n",
       "    <tr>\n",
       "      <td>0</td>\n",
       "      <td>Spider-man is better than any summer blockbust...</td>\n",
       "      <td>Positive</td>\n",
       "      <td>27</td>\n",
       "    </tr>\n",
       "    <tr>\n",
       "      <td>1</td>\n",
       "      <td>of good sense</td>\n",
       "      <td>Positive</td>\n",
       "      <td>3</td>\n",
       "    </tr>\n",
       "    <tr>\n",
       "      <td>2</td>\n",
       "      <td>, then knock yourself out and enjoy the big sc...</td>\n",
       "      <td>Negative</td>\n",
       "      <td>19</td>\n",
       "    </tr>\n",
       "    <tr>\n",
       "      <td>3</td>\n",
       "      <td>So could young romantics out on a date .</td>\n",
       "      <td>Positive</td>\n",
       "      <td>9</td>\n",
       "    </tr>\n",
       "    <tr>\n",
       "      <td>4</td>\n",
       "      <td>humour</td>\n",
       "      <td>Positive</td>\n",
       "      <td>1</td>\n",
       "    </tr>\n",
       "  </tbody>\n",
       "</table>\n",
       "</div>"
      ],
      "text/plain": [
       "                                              Phrase     label  WordCount\n",
       "0  Spider-man is better than any summer blockbust...  Positive         27\n",
       "1                                      of good sense  Positive          3\n",
       "2  , then knock yourself out and enjoy the big sc...  Negative         19\n",
       "3           So could young romantics out on a date .  Positive          9\n",
       "4                                             humour  Positive          1"
      ]
     },
     "execution_count": 8,
     "metadata": {},
     "output_type": "execute_result"
    }
   ],
   "source": [
    "# counting the workds in each row\n",
    "df['WordCount'] = df['Phrase'].str.split().str.len()\n",
    "\n",
    "df.head()"
   ]
  },
  {
   "cell_type": "code",
   "execution_count": 9,
   "metadata": {},
   "outputs": [
    {
     "data": {
      "text/html": [
       "<div>\n",
       "<style scoped>\n",
       "    .dataframe tbody tr th:only-of-type {\n",
       "        vertical-align: middle;\n",
       "    }\n",
       "\n",
       "    .dataframe tbody tr th {\n",
       "        vertical-align: top;\n",
       "    }\n",
       "\n",
       "    .dataframe thead th {\n",
       "        text-align: right;\n",
       "    }\n",
       "</style>\n",
       "<table border=\"1\" class=\"dataframe\">\n",
       "  <thead>\n",
       "    <tr style=\"text-align: right;\">\n",
       "      <th></th>\n",
       "      <th>Phrase</th>\n",
       "      <th>label</th>\n",
       "      <th>WordCount</th>\n",
       "    </tr>\n",
       "  </thead>\n",
       "  <tbody>\n",
       "    <tr>\n",
       "      <td>981</td>\n",
       "      <td></td>\n",
       "      <td>Negative</td>\n",
       "      <td>0</td>\n",
       "    </tr>\n",
       "  </tbody>\n",
       "</table>\n",
       "</div>"
      ],
      "text/plain": [
       "    Phrase     label  WordCount\n",
       "981         Negative          0"
      ]
     },
     "execution_count": 9,
     "metadata": {},
     "output_type": "execute_result"
    }
   ],
   "source": [
    "# checking if there is empyt Phrase or not\n",
    "df[df['WordCount'] == 0]"
   ]
  },
  {
   "cell_type": "code",
   "execution_count": 10,
   "metadata": {},
   "outputs": [
    {
     "data": {
      "text/plain": [
       "(2799, 3)"
      ]
     },
     "execution_count": 10,
     "metadata": {},
     "output_type": "execute_result"
    }
   ],
   "source": [
    "# dropping the index which has no phrase\n",
    "df.drop(df[df['WordCount'] == 0].index, inplace=True)\n",
    "\n",
    "df.shape"
   ]
  },
  {
   "cell_type": "code",
   "execution_count": 11,
   "metadata": {},
   "outputs": [
    {
     "data": {
      "image/png": "[encoded data removed]",
      "text/plain": [
       "<Figure size 432x288 with 1 Axes>"
      ]
     },
     "metadata": {},
     "output_type": "display_data"
    }
   ],
   "source": [
    "# plotting the pie chart\n",
    "pos_total = len(df[df['label'] == 'Positive'])\n",
    "neg_total = len(df[df['label'] == 'Negative'])\n",
    "\n",
    "textprops = {'fontsize': 14}\n",
    "plt.pie(x=[pos_total, neg_total], labels=['Positive Label', 'Negative Label'], textprops=textprops, autopct='%0.1f%%', radius=1.4)\n",
    "\n",
    "plt.legend()\n",
    "plt.show()"
   ]
  },
  {
   "cell_type": "code",
   "execution_count": 12,
   "metadata": {},
   "outputs": [
    {
     "data": {
      "image/png": "[encoded data removed]",
      "text/plain": [
       "<Figure size 360x360 with 1 Axes>"
      ]
     },
     "metadata": {
      "needs_background": "light"
     },
     "output_type": "display_data"
    }
   ],
   "source": [
    "# average wordcount par plot\n",
    "\n",
    "sns.catplot(x='label', y='WordCount', data=df, kind='bar', hue='label')\n",
    "plt.show()"
   ]
  },
  {
   "cell_type": "code",
   "execution_count": 13,
   "metadata": {},
   "outputs": [
    {
     "data": {
      "image/png": "[encoded data removed]",
      "text/plain": [
       "<Figure size 360x360 with 1 Axes>"
      ]
     },
     "metadata": {
      "needs_background": "light"
     },
     "output_type": "display_data"
    }
   ],
   "source": [
    "# plotting the categorical data\n",
    "\n",
    "sns.catplot(x='label', y='WordCount', data=df, kind='point', hue='label')\n",
    "plt.show()"
   ]
  },
  {
   "cell_type": "markdown",
   "metadata": {},
   "source": [
    "The above plots shows that the `Negative` label has slightly more word count than the `Positive` word count in general."
   ]
  },
  {
   "cell_type": "code",
   "execution_count": 14,
   "metadata": {},
   "outputs": [],
   "source": [
    "# Data cleaning\n",
    "new_df = df.copy()"
   ]
  },
  {
   "cell_type": "code",
   "execution_count": 15,
   "metadata": {},
   "outputs": [],
   "source": [
    "# removing (, . !)symbol from the dataset using regular expression\n",
    "import re\n",
    "\n",
    "def clean_phrase(dataset):\n",
    "    clean_data =  re.sub(\"[^a-z\\s']+\", \" \", dataset, flags = re.IGNORECASE)\n",
    "    \n",
    "    return clean_data"
   ]
  },
  {
   "cell_type": "code",
   "execution_count": 16,
   "metadata": {},
   "outputs": [
    {
     "data": {
      "text/html": [
       "<div>\n",
       "<style scoped>\n",
       "    .dataframe tbody tr th:only-of-type {\n",
       "        vertical-align: middle;\n",
       "    }\n",
       "\n",
       "    .dataframe tbody tr th {\n",
       "        vertical-align: top;\n",
       "    }\n",
       "\n",
       "    .dataframe thead th {\n",
       "        text-align: right;\n",
       "    }\n",
       "</style>\n",
       "<table border=\"1\" class=\"dataframe\">\n",
       "  <thead>\n",
       "    <tr style=\"text-align: right;\">\n",
       "      <th></th>\n",
       "      <th>Phrase</th>\n",
       "      <th>label</th>\n",
       "      <th>WordCount</th>\n",
       "    </tr>\n",
       "  </thead>\n",
       "  <tbody>\n",
       "    <tr>\n",
       "      <td>0</td>\n",
       "      <td>Spider man is better than any summer blockbust...</td>\n",
       "      <td>Positive</td>\n",
       "      <td>27</td>\n",
       "    </tr>\n",
       "    <tr>\n",
       "      <td>1</td>\n",
       "      <td>of good sense</td>\n",
       "      <td>Positive</td>\n",
       "      <td>3</td>\n",
       "    </tr>\n",
       "    <tr>\n",
       "      <td>2</td>\n",
       "      <td>then knock yourself out and enjoy the big sc...</td>\n",
       "      <td>Negative</td>\n",
       "      <td>19</td>\n",
       "    </tr>\n",
       "    <tr>\n",
       "      <td>3</td>\n",
       "      <td>So could young romantics out on a date</td>\n",
       "      <td>Positive</td>\n",
       "      <td>9</td>\n",
       "    </tr>\n",
       "    <tr>\n",
       "      <td>4</td>\n",
       "      <td>humour</td>\n",
       "      <td>Positive</td>\n",
       "      <td>1</td>\n",
       "    </tr>\n",
       "  </tbody>\n",
       "</table>\n",
       "</div>"
      ],
      "text/plain": [
       "                                              Phrase     label  WordCount\n",
       "0  Spider man is better than any summer blockbust...  Positive         27\n",
       "1                                      of good sense  Positive          3\n",
       "2    then knock yourself out and enjoy the big sc...  Negative         19\n",
       "3           So could young romantics out on a date    Positive          9\n",
       "4                                             humour  Positive          1"
      ]
     },
     "execution_count": 16,
     "metadata": {},
     "output_type": "execute_result"
    }
   ],
   "source": [
    "# clean data column of phrase\n",
    "new_df['Phrase'] = new_df['Phrase'].apply(clean_phrase)\n",
    "new_df.head()"
   ]
  },
  {
   "cell_type": "code",
   "execution_count": 17,
   "metadata": {},
   "outputs": [
    {
     "data": {
      "text/html": [
       "<div>\n",
       "<style scoped>\n",
       "    .dataframe tbody tr th:only-of-type {\n",
       "        vertical-align: middle;\n",
       "    }\n",
       "\n",
       "    .dataframe tbody tr th {\n",
       "        vertical-align: top;\n",
       "    }\n",
       "\n",
       "    .dataframe thead th {\n",
       "        text-align: right;\n",
       "    }\n",
       "</style>\n",
       "<table border=\"1\" class=\"dataframe\">\n",
       "  <thead>\n",
       "    <tr style=\"text-align: right;\">\n",
       "      <th></th>\n",
       "      <th>Phrase</th>\n",
       "      <th>label</th>\n",
       "      <th>WordCount</th>\n",
       "      <th>word_count</th>\n",
       "    </tr>\n",
       "  </thead>\n",
       "  <tbody>\n",
       "    <tr>\n",
       "      <td>0</td>\n",
       "      <td>Spider man is better than any summer blockbust...</td>\n",
       "      <td>Positive</td>\n",
       "      <td>27</td>\n",
       "      <td>25</td>\n",
       "    </tr>\n",
       "    <tr>\n",
       "      <td>1</td>\n",
       "      <td>of good sense</td>\n",
       "      <td>Positive</td>\n",
       "      <td>3</td>\n",
       "      <td>3</td>\n",
       "    </tr>\n",
       "    <tr>\n",
       "      <td>2</td>\n",
       "      <td>then knock yourself out and enjoy the big sc...</td>\n",
       "      <td>Negative</td>\n",
       "      <td>19</td>\n",
       "      <td>18</td>\n",
       "    </tr>\n",
       "    <tr>\n",
       "      <td>3</td>\n",
       "      <td>So could young romantics out on a date</td>\n",
       "      <td>Positive</td>\n",
       "      <td>9</td>\n",
       "      <td>8</td>\n",
       "    </tr>\n",
       "    <tr>\n",
       "      <td>4</td>\n",
       "      <td>humour</td>\n",
       "      <td>Positive</td>\n",
       "      <td>1</td>\n",
       "      <td>1</td>\n",
       "    </tr>\n",
       "  </tbody>\n",
       "</table>\n",
       "</div>"
      ],
      "text/plain": [
       "                                              Phrase     label  WordCount  \\\n",
       "0  Spider man is better than any summer blockbust...  Positive         27   \n",
       "1                                      of good sense  Positive          3   \n",
       "2    then knock yourself out and enjoy the big sc...  Negative         19   \n",
       "3           So could young romantics out on a date    Positive          9   \n",
       "4                                             humour  Positive          1   \n",
       "\n",
       "   word_count  \n",
       "0          25  \n",
       "1           3  \n",
       "2          18  \n",
       "3           8  \n",
       "4           1  "
      ]
     },
     "execution_count": 17,
     "metadata": {},
     "output_type": "execute_result"
    }
   ],
   "source": [
    "# new word_count after removing (, . !) from dataframe\n",
    "new_df['word_count'] = new_df['Phrase'].str.split().str.len()\n",
    "new_df.head()"
   ]
  },
  {
   "cell_type": "code",
   "execution_count": 18,
   "metadata": {},
   "outputs": [
    {
     "data": {
      "text/html": [
       "<div>\n",
       "<style scoped>\n",
       "    .dataframe tbody tr th:only-of-type {\n",
       "        vertical-align: middle;\n",
       "    }\n",
       "\n",
       "    .dataframe tbody tr th {\n",
       "        vertical-align: top;\n",
       "    }\n",
       "\n",
       "    .dataframe thead th {\n",
       "        text-align: right;\n",
       "    }\n",
       "</style>\n",
       "<table border=\"1\" class=\"dataframe\">\n",
       "  <thead>\n",
       "    <tr style=\"text-align: right;\">\n",
       "      <th></th>\n",
       "      <th>Phrase</th>\n",
       "      <th>label</th>\n",
       "      <th>WordCount</th>\n",
       "      <th>word_count</th>\n",
       "    </tr>\n",
       "  </thead>\n",
       "  <tbody>\n",
       "    <tr>\n",
       "      <td>0</td>\n",
       "      <td>Spider man is better than any summer blockbust...</td>\n",
       "      <td>1</td>\n",
       "      <td>27</td>\n",
       "      <td>25</td>\n",
       "    </tr>\n",
       "    <tr>\n",
       "      <td>1</td>\n",
       "      <td>of good sense</td>\n",
       "      <td>1</td>\n",
       "      <td>3</td>\n",
       "      <td>3</td>\n",
       "    </tr>\n",
       "    <tr>\n",
       "      <td>2</td>\n",
       "      <td>then knock yourself out and enjoy the big sc...</td>\n",
       "      <td>0</td>\n",
       "      <td>19</td>\n",
       "      <td>18</td>\n",
       "    </tr>\n",
       "    <tr>\n",
       "      <td>3</td>\n",
       "      <td>So could young romantics out on a date</td>\n",
       "      <td>1</td>\n",
       "      <td>9</td>\n",
       "      <td>8</td>\n",
       "    </tr>\n",
       "    <tr>\n",
       "      <td>4</td>\n",
       "      <td>humour</td>\n",
       "      <td>1</td>\n",
       "      <td>1</td>\n",
       "      <td>1</td>\n",
       "    </tr>\n",
       "  </tbody>\n",
       "</table>\n",
       "</div>"
      ],
      "text/plain": [
       "                                              Phrase  label  WordCount  \\\n",
       "0  Spider man is better than any summer blockbust...      1         27   \n",
       "1                                      of good sense      1          3   \n",
       "2    then knock yourself out and enjoy the big sc...      0         19   \n",
       "3           So could young romantics out on a date        1          9   \n",
       "4                                             humour      1          1   \n",
       "\n",
       "   word_count  \n",
       "0          25  \n",
       "1           3  \n",
       "2          18  \n",
       "3           8  \n",
       "4           1  "
      ]
     },
     "execution_count": 18,
     "metadata": {},
     "output_type": "execute_result"
    }
   ],
   "source": [
    "# changing label to 1 and 0\n",
    "def encoding_label(dataset):\n",
    "    if dataset == 'Positive':\n",
    "        dataset = 1\n",
    "    elif dataset == 'Negative':\n",
    "        dataset = 0\n",
    "    \n",
    "    return dataset\n",
    "\n",
    "new_df['label'] = new_df['label'].apply(encoding_label)\n",
    "new_df.head()"
   ]
  },
  {
   "cell_type": "markdown",
   "metadata": {},
   "source": [
    "**Calculating of prior, likelihood and posterior**"
   ]
  },
  {
   "cell_type": "code",
   "execution_count": 19,
   "metadata": {},
   "outputs": [
    {
     "name": "stdout",
     "output_type": "stream",
     "text": [
      "2799 1679 1119\n"
     ]
    }
   ],
   "source": [
    "# splitting number for train and test dataset\n",
    "total_len = len(new_df)\n",
    "train_len = int(0.6 * total_len)\n",
    "test_len = int(0.4 * total_len)\n",
    "\n",
    "print(total_len, train_len, test_len)"
   ]
  },
  {
   "cell_type": "code",
   "execution_count": 20,
   "metadata": {},
   "outputs": [
    {
     "name": "stdout",
     "output_type": "stream",
     "text": [
      "1679 1120\n"
     ]
    }
   ],
   "source": [
    "# splitting dataframe\n",
    "train_df = new_df[: train_len]\n",
    "test_df = new_df[train_len: ]\n",
    "\n",
    "print(len(train_df), len(test_df))"
   ]
  },
  {
   "cell_type": "code",
   "execution_count": 21,
   "metadata": {},
   "outputs": [
    {
     "name": "stdout",
     "output_type": "stream",
     "text": [
      "total_vocab : 15134, unique_vocab : 1842\n"
     ]
    }
   ],
   "source": [
    "# creating unique vocab\n",
    "all_vocab = list()\n",
    "\n",
    "for i in train_df['Phrase'].tolist():\n",
    "    all_vocab.extend(i.split(\" \"))\n",
    "    \n",
    "unique_vocab = list(set(all_vocab))\n",
    "\n",
    "print('total_vocab : {}, unique_vocab : {}'.format(len(all_vocab), len(unique_vocab)))"
   ]
  },
  {
   "cell_type": "code",
   "execution_count": 22,
   "metadata": {},
   "outputs": [
    {
     "data": {
      "text/plain": [
       "1    0.646814\n",
       "0    0.353186\n",
       "Name: label, dtype: float64"
      ]
     },
     "execution_count": 22,
     "metadata": {},
     "output_type": "execute_result"
    }
   ],
   "source": [
    "# calculating the class priors\n",
    "class_priors = train_df['label'].value_counts(normalize = True)\n",
    "class_priors"
   ]
  },
  {
   "cell_type": "code",
   "execution_count": 23,
   "metadata": {},
   "outputs": [],
   "source": [
    "# getting class 0 (Negative) and 1 (Positive) words from phrase\n",
    "class_0_words = []\n",
    "\n",
    "for sentence in train_df[train_df['label'] == 0]['Phrase']:\n",
    "    word_list = sentence.lower().split(\" \")\n",
    "    \n",
    "    new_word_list = []\n",
    "    for w in word_list:\n",
    "        if w != '':\n",
    "            new_word_list.append(w)\n",
    "    \n",
    "    class_0_words.extend(new_word_list)"
   ]
  },
  {
   "cell_type": "code",
   "execution_count": 24,
   "metadata": {},
   "outputs": [],
   "source": [
    "class_1_words = []\n",
    "\n",
    "for sentence in train_df[train_df['label'] == 1]['Phrase']:\n",
    "    word_list = sentence.lower().split(\" \")\n",
    "    \n",
    "    new_word_list = []\n",
    "    for w in word_list:\n",
    "        if w != '':\n",
    "            new_word_list.append(w)\n",
    "    \n",
    "    class_1_words.extend(new_word_list)"
   ]
  },
  {
   "cell_type": "code",
   "execution_count": 25,
   "metadata": {},
   "outputs": [],
   "source": [
    "# class word dictinary\n",
    "class_words = {\n",
    "    0: class_0_words, \n",
    "    1: class_1_words\n",
    "}"
   ]
  },
  {
   "cell_type": "markdown",
   "metadata": {},
   "source": [
    "**Smoothing**"
   ]
  },
  {
   "cell_type": "markdown",
   "metadata": {},
   "source": [
    "Counting occurence of word and finding the word probabilites for respective classes and performing laplacian smoothing."
   ]
  },
  {
   "cell_type": "code",
   "execution_count": 26,
   "metadata": {},
   "outputs": [],
   "source": [
    "# function\n",
    "def count_occur(word, word_list):\n",
    "    count = 0\n",
    "    \n",
    "    for w in word_list:\n",
    "        if word == w:\n",
    "            count += 1\n",
    "    \n",
    "    return count   \n",
    "\n",
    "def word_probs_with_laplacian_smoothing(class_0_words, class_1_words, alpha, unique_vocab):\n",
    "    word_probs = {\n",
    "        0: {},\n",
    "        1: {}\n",
    "    }\n",
    "    \n",
    "    #Laplacian Smoothing \n",
    "    for word in unique_vocab:\n",
    "        word_probs[0][word] = ((count_occur(word, class_0_words) + alpha) / (len(class_0_words) + alpha * len(unique_vocab)))\n",
    "        word_probs[1][word] = ((count_occur(word, class_1_words) + alpha) / (len(class_1_words) + alpha * len(unique_vocab)))\n",
    "    \n",
    "    return word_probs"
   ]
  },
  {
   "cell_type": "markdown",
   "metadata": {},
   "source": [
    "Prediction"
   ]
  },
  {
   "cell_type": "code",
   "execution_count": 27,
   "metadata": {},
   "outputs": [],
   "source": [
    "def prediction(alpha, dataset): \n",
    "    word_probs = word_probs_with_laplacian_smoothing(class_0_words, class_1_words, alpha, unique_vocab)\n",
    "    predicted_class = []\n",
    "    \n",
    "    for phrase in dataset:\n",
    "        phraseArr = phrase.split(\" \")\n",
    "        prob_0_given_string = 1\n",
    "        prob_1_given_string = 1\n",
    "        \n",
    "        for w in phraseArr:\n",
    "            try:\n",
    "                prob_0_given_string = prob_0_given_string*word_probs[0][w]\n",
    "                prob_1_given_string = prob_1_given_string*word_probs[1][w]\n",
    "            except Exception:\n",
    "                w_prob_class_0 = ((alpha/len(class_0_words)+alpha*len(unique_vocab)))\n",
    "                prob_0_given_string = prob_0_given_string*w_prob_class_0\n",
    "                w_prob_class_1 = ((alpha/len(class_1_words)+alpha*len(unique_vocab)))\n",
    "                prob_1_given_string = prob_1_given_string*w_prob_class_1\n",
    "            prob_0_given_string *= class_priors[0]\n",
    "            prob_1_given_string *= class_priors[1]\n",
    "           \n",
    "        if prob_1_given_string > prob_0_given_string:\n",
    "            predicted_class.append(1)\n",
    "        else:\n",
    "            predicted_class.append(0)    \n",
    "\n",
    "    return predicted_class"
   ]
  },
  {
   "cell_type": "code",
   "execution_count": 28,
   "metadata": {},
   "outputs": [],
   "source": [
    "predictions = prediction(1, test_df[\"Phrase\"])"
   ]
  },
  {
   "cell_type": "code",
   "execution_count": 29,
   "metadata": {},
   "outputs": [],
   "source": [
    "# confusion matrix\n",
    "def get_confusion_matrix(actual, predicted):\n",
    "    confusion_matrix = np.zeros((2,2))\n",
    "    for x, y in zip(actual, predicted):\n",
    "        confusion_matrix[x, y] += 1\n",
    "    return confusion_matrix"
   ]
  },
  {
   "cell_type": "code",
   "execution_count": 30,
   "metadata": {},
   "outputs": [
    {
     "name": "stdout",
     "output_type": "stream",
     "text": [
      "Confusion Matrix:\n",
      " [[233. 173.]\n",
      " [ 29. 685.]]\n"
     ]
    }
   ],
   "source": [
    "confusion_matrix = get_confusion_matrix(test_df['label'], predictions)\n",
    "\n",
    "print('Confusion Matrix:\\n', confusion_matrix)"
   ]
  },
  {
   "cell_type": "code",
   "execution_count": 31,
   "metadata": {},
   "outputs": [
    {
     "name": "stdout",
     "output_type": "stream",
     "text": [
      "Accuracy:  0.8196428571428571\n"
     ]
    }
   ],
   "source": [
    "# accuracy\n",
    "accuracy=(confusion_matrix[0][0] + confusion_matrix[1][1]) / np.sum(confusion_matrix)\n",
    "\n",
    "print('Accuracy: ', accuracy)"
   ]
  },
  {
   "cell_type": "code",
   "execution_count": 32,
   "metadata": {},
   "outputs": [
    {
     "name": "stdout",
     "output_type": "stream",
     "text": [
      "Recall:  0.5738916256157636\n"
     ]
    }
   ],
   "source": [
    "# recall\n",
    "recall=(confusion_matrix[0][0]) / (confusion_matrix[0][0] + confusion_matrix[0][1])\n",
    "\n",
    "print('Recall: ', recall)"
   ]
  },
  {
   "cell_type": "code",
   "execution_count": 33,
   "metadata": {},
   "outputs": [
    {
     "name": "stdout",
     "output_type": "stream",
     "text": [
      "Precision:  0.8893129770992366\n"
     ]
    }
   ],
   "source": [
    "# precision\n",
    "precision=(confusion_matrix[0][0]) / (confusion_matrix[0][0] + confusion_matrix[1][0])\n",
    "\n",
    "print('Precision: ', precision)"
   ]
  },
  {
   "cell_type": "code",
   "execution_count": 34,
   "metadata": {},
   "outputs": [
    {
     "name": "stdout",
     "output_type": "stream",
     "text": [
      "F1 Score:  0.6976047904191617\n"
     ]
    }
   ],
   "source": [
    "# f1 score\n",
    "f1_score=(2 * recall * precision) / (recall + precision)\n",
    "\n",
    "print('F1 Score: ', f1_score)"
   ]
  },
  {
   "cell_type": "markdown",
   "metadata": {},
   "source": [
    "**ROC curve**"
   ]
  },
  {
   "cell_type": "code",
   "execution_count": 35,
   "metadata": {},
   "outputs": [],
   "source": [
    "tpr = []\n",
    "fpr = []\n",
    "\n",
    "for alpha in np.arange(1,100,1):\n",
    "    predictions = prediction(alpha,test_df[\"Phrase\"])\n",
    "    confusion_matrix = get_confusion_matrix(test_df[\"label\"], predictions)\n",
    "    \n",
    "    true_pos_rate = (confusion_matrix[0][0]) / (confusion_matrix[0][0]+confusion_matrix[0][1])\n",
    "    false_pos_rate = (confusion_matrix[1][0]) / (confusion_matrix[1][0]+confusion_matrix[1][1])\n",
    "    \n",
    "    tpr.append(true_pos_rate)\n",
    "    fpr.append(false_pos_rate)"
   ]
  },
  {
   "cell_type": "code",
   "execution_count": 36,
   "metadata": {},
   "outputs": [
    {
     "data": {
      "image/png": "[encoded data removed]",
      "text/plain": [
       "<Figure size 864x432 with 1 Axes>"
      ]
     },
     "metadata": {
      "needs_background": "light"
     },
     "output_type": "display_data"
    }
   ],
   "source": [
    "# plotting ROC curve\n",
    "plt.figure(figsize = (12, 6))\n",
    "base = np.arange(0,1,0.1)\n",
    "\n",
    "plt.plot(fpr, tpr, linestyle='--', label='ROC Curve')\n",
    "plt.plot(base, base, label='Base Line')\n",
    "\n",
    "plt.title('ROC Curve', fontsize = 14)\n",
    "plt.xlabel('False Positive Rate', fontsize = 12)\n",
    "plt.ylabel('True Positive Rate', fontsize = 12)\n",
    "\n",
    "plt.legend()\n",
    "plt.grid()\n",
    "plt.show() "
   ]
  },
  {
   "cell_type": "code",
   "execution_count": null,
   "metadata": {},
   "outputs": [],
   "source": []
  }
 ],
 "metadata": {
  "kernelspec": {
   "display_name": "Python 3",
   "language": "python",
   "name": "python3"
  },
  "language_info": {
   "codemirror_mode": {
    "name": "ipython",
    "version": 3
   },
   "file_extension": ".py",
   "mimetype": "text/x-python",
   "name": "python",
   "nbconvert_exporter": "python",
   "pygments_lexer": "ipython3",
   "version": "3.7.4"
  }
 },
 "nbformat": 4,
 "nbformat_minor": 2
}
