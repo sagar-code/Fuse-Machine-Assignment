{
 "cells": [
  {
   "cell_type": "markdown",
   "metadata": {},
   "source": [
    "**Data Analysis and Visualization**"
   ]
  },
  {
   "cell_type": "code",
   "execution_count": 1,
   "metadata": {},
   "outputs": [],
   "source": [
    "# importing require libraries\n",
    "import numpy as np\n",
    "import pandas as pd\n",
    "import matplotlib.pyplot as plt\n",
    "%matplotlib inline\n",
    "\n",
    "import seaborn as sns"
   ]
  },
  {
   "cell_type": "code",
   "execution_count": 2,
   "metadata": {},
   "outputs": [
    {
     "data": {
      "text/html": [
       "<div>\n",
       "<style scoped>\n",
       "    .dataframe tbody tr th:only-of-type {\n",
       "        vertical-align: middle;\n",
       "    }\n",
       "\n",
       "    .dataframe tbody tr th {\n",
       "        vertical-align: top;\n",
       "    }\n",
       "\n",
       "    .dataframe thead th {\n",
       "        text-align: right;\n",
       "    }\n",
       "</style>\n",
       "<table border=\"1\" class=\"dataframe\">\n",
       "  <thead>\n",
       "    <tr style=\"text-align: right;\">\n",
       "      <th></th>\n",
       "      <th>Phrase</th>\n",
       "      <th>label</th>\n",
       "    </tr>\n",
       "  </thead>\n",
       "  <tbody>\n",
       "    <tr>\n",
       "      <td>0</td>\n",
       "      <td>Spider-man is better than any summer blockbust...</td>\n",
       "      <td>Positive</td>\n",
       "    </tr>\n",
       "    <tr>\n",
       "      <td>1</td>\n",
       "      <td>of good sense</td>\n",
       "      <td>Positive</td>\n",
       "    </tr>\n",
       "    <tr>\n",
       "      <td>2</td>\n",
       "      <td>, then knock yourself out and enjoy the big sc...</td>\n",
       "      <td>Negative</td>\n",
       "    </tr>\n",
       "    <tr>\n",
       "      <td>3</td>\n",
       "      <td>So could young romantics out on a date .</td>\n",
       "      <td>Positive</td>\n",
       "    </tr>\n",
       "    <tr>\n",
       "      <td>4</td>\n",
       "      <td>humour</td>\n",
       "      <td>Positive</td>\n",
       "    </tr>\n",
       "  </tbody>\n",
       "</table>\n",
       "</div>"
      ],
      "text/plain": [
       "                                              Phrase     label\n",
       "0  Spider-man is better than any summer blockbust...  Positive\n",
       "1                                      of good sense  Positive\n",
       "2  , then knock yourself out and enjoy the big sc...  Negative\n",
       "3           So could young romantics out on a date .  Positive\n",
       "4                                             humour  Positive"
      ]
     },
     "execution_count": 2,
     "metadata": {},
     "output_type": "execute_result"
    }
   ],
   "source": [
    "# load dataset\n",
    "df = pd.read_csv('sentiment.csv')\n",
    "df.head()"
   ]
  },
  {
   "cell_type": "code",
   "execution_count": 3,
   "metadata": {},
   "outputs": [
    {
     "data": {
      "text/plain": [
       "(2800, 2)"
      ]
     },
     "execution_count": 3,
     "metadata": {},
     "output_type": "execute_result"
    }
   ],
   "source": [
    "# shape of the dataset\n",
    "df.shape"
   ]
  },
  {
   "cell_type": "code",
   "execution_count": 4,
   "metadata": {},
   "outputs": [
    {
     "data": {
      "text/plain": [
       "Positive    1800\n",
       "Negative    1000\n",
       "Name: label, dtype: int64"
      ]
     },
     "execution_count": 4,
     "metadata": {},
     "output_type": "execute_result"
    }
   ],
   "source": [
    "# checking how many positive or negative values are there\n",
    "df.label.value_counts()"
   ]
  },
  {
   "cell_type": "code",
   "execution_count": 5,
   "metadata": {},
   "outputs": [
    {
     "data": {
      "text/plain": [
       "Phrase    0\n",
       "label     0\n",
       "dtype: int64"
      ]
     },
     "execution_count": 5,
     "metadata": {},
     "output_type": "execute_result"
    }
   ],
   "source": [
    "# checking the null values\n",
    "df.isnull().sum()"
   ]
  },
  {
   "cell_type": "code",
   "execution_count": 6,
   "metadata": {},
   "outputs": [
    {
     "name": "stdout",
     "output_type": "stream",
     "text": [
      "['Spider-man', 'is', 'better', 'than', 'any', 'summer', 'blockbuster', 'we', 'had', 'to', 'endure', 'last', ',', 'and', 'hopefully', 'sets', 'the', 'tone', 'for', 'a', 'of', 'good', 'stuff', '.', 'sense', 'then', 'knock', 'yourself', 'out', 'enjoy', 'big', 'screen', 'postcard', 'that', 'self-glorified', 'Martin', 'Lawrence', 'lovefest', 'So', 'could', 'young', 'romantics', 'on', 'date', 'humour', 'You', 'bet', 'there', 'it', \"'s\", 'what', 'makes', 'this', 'rather', 'convoluted', 'journey', 'worth', 'taking', 'tries', 'more', 'Screenwriter', 'Chris', 'ver', 'Weil', 'directing', 'debut', 'good-natured', 'never', 'dull', 'but', 'mood', 'in', 'which', 'an', 'ominous', 'pervasive', 'unknown', 'threat', 'lurks', 'just', 'below', 'proceedings', 'adds', 'almost', 'constant', 'mindset', 'suspense', 'centers', 'midlife', 'crisis', 'hate', 'putting', 'together', 'movies', 'particular', 'value', 'or', 'merit', 'sensual', 'funny', 'Some', 'computer', 'animation', 'handsome', 'right', 'questions', 'solid', '--', 'as', 'if', 'director', 'trying', 'dupe', 'viewer', 'into', 'all', 'Very', 'Important', 'simply', 'because', 'movie', 'ugly', 'look', 'at', 'not', 'Hollywood', 'product', 'thriller', 'once', 'too', 'often', 'war', 'One', 'year', 'most', 'weirdly', 'engaging', 'unpredictable', 'character', 'pieces', 'brilliant', 'they', 'do', \"n't\", 'fit', 'well', 'keep', 'interested', 'proves', 'sometimes', 'dreams', 'youth', 'should', 'remain', 'hack', 'Fire', 'nostalgic', 'twisty', 'yarn', 'will', 'them', 'guessing', 'brings', 'proper', 'conviction', 'his', 'role', '-LRB-', 'Jason', 'Bourne', '-RRB-', 'delicious', 'pulpiness', 'its', 'lurid', 'fiction', 'stylized', 'with', 'touch', 'John', 'Woo', 'bullet', 'ballet', 'you', \"'re\", 'entirely', 'unprepared', 'clever', 'credits', 'roll', 'ploughing', 'same', 'furrow', 'gently', 'swaying', 'back', 'forth', 'cradles', 'characters', 'veiling', 'tension', 'beneath', 'otherwise', 'tender', 'movements', '`', 'laugh', 'therapy', \"'\", 'whose', 'view', 'America', 'history', 'awkwardness', 'human', 'life', 'generous', 'deep', 'like', 'work', 'artist', 'who', 'tired', 'fighting', 'fights', 'weight', 'world', 'shoulders', 'playing', 'narrative', 'form', 'pair', 'fascinating', 'performances', 'Phillip', 'Noyce', 'actors', 'cinematographer', 'Christopher', 'Doyle', 'understand', 'delicate', 'forcefulness', 'Greene', 'prose', 'impossible', 'care', 'about', 'very', 'impression', 'evoke', 'memories', 'emotions', 'are', 'anything', 'drag', 'reek', 'script', 'A', 'well-made', 'humane', 'children', 'film', 'truest', 'plays', 'dramatic', 'Invigorating', 'surreal', 'resonant', 'rainbow', 'emotion', 'might', 'Vulgar', 'bilingual', 'charmer', 'can', 'honestly', 'describe', 'looking', 'sounding', 'feeling', 'no', 'other', 'recent', '``', 'Austin', 'Powers', 'Goldmember', \"''\", 'has', 'silly', 'entertainment', 'enough', 'laughs', 'sustain', 'interest', 'end', 'aims', 'be', 'uplifting', 'moving', 'occasional', 'smiles', 'surprisingly', 'achievement', 'really', 'special', 'walk', 'woods', 'show', 'us', 'time', 'courage', 'ideas', 'technical', 'proficiency', 'evil', 'monstrous', 'lunatic', 'strong', 'themes', 'familial', 'ties', 'well-intentioned', 'effort', 'still', 'burdened', 'by', 'actor', 'sneaky', 'feel', 'several', 'old', 'unintentional', 'parallels', 'inadvertently', 'humorous', 'so', 'intimate', 'psychologically', 'self-revealing', 'passes', 'sex', 'cheap', 'hysterics', 'This', 'some', 'honest', 'insight', 'black-and-white', 'inspires', 'cliche', 'happy', 'ending', 'Swedish', 'fillm', 'modern', 'city', 'first', 'computer-generated', 'feature', 'cartoon', 'have', 'been', 'funnier', 'released', 'outtakes', 'theatrically', 'used', 'bonus', 'DVD', 'visual', 'charm', 'would', 'hard', 'sitting', 'through', 'one', 'spirals', 'downward', 'inoffensive', 'goose', 'fun', 'over-indulgent', 'tirade', 'love', 'story', 'sanguine', 'title', 'More', 'vaudeville', 'well-constructed', 'Takes', 'clunky', 'TV-movie', 'approach', 'detailing', 'chapter', 'celebrated', 'Irish', 'playwright', 'poet', 'drinker', 'confident', 'filmmaking', 'much-needed', 'levity', 'disappointed', 'lets', 'brush', 'up', 'against', 'humanity', 'psycho', 'without', 'making', 'him', 'less', 'the-night', 'pat', 'storylines', 'precious', 'circumstances', 'beautiful', 'stars', 'success', 'wonderful', 'Madonna', 'gives', 'her', 'best', 'performance', 'since', 'Abel', 'Ferrara', 'beaten', 'pulp', 'Dangerous', 'Game', 'Eight', 'Legged', 'Freaks', 'perfectly', 'entertaining', 'diversion', 'contemplation', 'fused', 'eerie', 'atmosphere', 'deceit', 'insanely', 'violent', 'graphic', 'Starts', 'mediocre', 'thuds', 'bottom', 'pool', 'utterly', 'incompetent', 'conclusion', 'An', 'unsettling', 'memorable', 'cinematic', 'experience', 'coming', 'down', 'off', 'Miramax', 'shelves', 'after', 'couple', 'aborted', 'attempts', 'sweet', 'At', 'when', 'commercialism', 'squeezed', 'whatever', 'idealism', 'American', 'moviemaking', 'ever', 'Godfrey', 'Reggio', 'career', 'shines', 'lonely', 'beacon', 'tryingly', 'Keenly', 'observed', 'refreshingly', 'natural', 'mainstream', 'audiences', 'rarely', 'seen', 'indication', 'Got', 'depress', 'itself', 'Superbly', 'Filmmaker', 'Tian', 'Zhuangzhuang', 'triumphantly', 'returns', 'visually', 'masterful', 'quiet', 'power', 'captures', 'innocence', 'budding', 'demons', 'within', 'wallflower', 'created', 'monster', 'did', 'know', 'how', 'handle', 'If', 'horror', 'primary', 'goal', 'frighten', 'disturb', 'They', 'works', 'spectacularly', '...', 'shiver-inducing', 'nerve-rattling', 'ride', 'give', 'accurate', 'thought', 'right-thinking', 'films', 'revel', 'splendor', 'Feels', 'Even', 'fans', 'Ismail', 'Merchant', 'I', 'suspect', 'indie', 'powerful', 'people', 'fully', 'does', 'leave', 'much', 'ham-fisted', 'introspective', 'independent', 'thoughtful', 'art', 'ethics', 'cost', 'moral', 'compromise', 'B', 'Perhaps', 'call', 'refreshing', 'endless', 'assault', 'embarrassingly', 'jokes', 'Reeks', 'rot', 'home', 'French', 'shocker', 'usual', 'bad', 'boy', 'weirdo', 'team', 'offbeat', 'humor', 'amusing', 'warmest', 'relic', 'from', 'bygone', 'era', 'convolutions', 'plausible', 'bizarre', 'Although', 'fairly', 'involving', 'far', 'goes', 'having', 'fresh', 'say', 'growing', 'Catholic', 'uncluttered', 'gem', 'leaps', 'over', 'national', 'boundaries', 'celebrates', 'universal', 'nature', 'waxes', 'poetic', 'our', 'taste', 'amazing', 'slapstick', 'instrument', 'different', 'own', 'yet', 'instantly', 'recognizable', 'heroes', 'try', 'avoid', 'succeed', 'few', 'cool', 'seems', 'aware', 'coolness', 'little', 'recommend', 'Snow', 'Dogs', 'Waking', 'Up', 'Reno', 'case', 'letting', 'sleeping', 'dogs', 'lie', 'The', 'rehashes', 'capped', 'pointless', 'extremes', 'hellish', 'conditions', 'feels', 'pretty', 'execution', 'pomposity', 'solving', 'problem', 'distract', 'solution', 'another', 'poorly', 'delivered', 'smug', 'self-satisfaction', 'usually', 'associated', 'private', 'schools', 'alone', 'force', 'scratch', 'hole', 'your', 'head', 'experimental', 'storytelling', 'losing', 'stooping', 'base', 'melodrama', 'decent', 'material', 'music', 'lot', 'richer', 'ones', 'action', 'screenwriters', 'come', 'their', 'loosely-connected', 'string', 'mythic', 'constructs', 'relays', 'points', 'lectures', 'confrontations', 'beyond', 'comprehension', 'even', 'were', 'Moonlight', 'Mile', 'judgment', 'damned', 'Hartley', 'emphasizes', 'well-wrought', 'omits', 'needless', 'chase', 'scenes', 'swordfights', 'revenge', 'unfolds', 'all-enveloping', 'Provides', 'kind', 'need', 'comedies', 'spiritual', 'riveting', 'set', 'comedy', 'equivalent', 'song', 'finally', 'found', 'vent', 'Importance', 'Being', 'Earnest', 'thick', 'wit', 'reading', 'Bartlett', 'Familiar', 'Quotations', 'gritty', 'major', 'weird', 'Masterpiece', 'Theater', 'sketch', 'neither', 'concentrating', 'elements', 'revealing', 'alienation', 'among', 'culture', 'sadly', 'hostile', 'odds', 'recklessness', 'retaliation', 'When', 'rich', 'luscious', 'nuances', 'empty', 'intrigue', 'betrayal', 'murder', 'light', 'Errol', 'Morris', 'focusing', 'eccentricity', 'failing', 'ultimately', 'make', 'something', 'bigger', 'scrapbook', 'oddballs', 'attract', 'upscale', 'hungry', 'quality', 'corny', 'examination', 'affecting', 'portrait', 'screwed-up', 'man', 'dared', 'mess', 'Written', 'flatly', 'Mr.', 'Polanski', 'element', 'here', 'zingers', 'barely', 'defensible', 'sexual', 'violence', 'Inventive', 'intoxicatingly', 'sexy', 'self-indulgent', 'maddening', 'example', 'lush', 'predictable', 'reassuring', 'manner', 'beautifully', 'sung', 'holiday', 'carol', 'vapid', 'exercise', 'Best', 'delivers', 'perfect', 'get', 'breezy', 'blend', 'banality', 'big-screen', 'remakes', 'Avengers', 'Wild', 'West', 'crafted', 'wisecracking', 'Mystery', 'Science', '3000', 'guys', 'keeps', 'IMAX', 'short', 'X', 'blab', 'what-if', 'photographed', 'staged', 'Mendes', 'series', 'vulgar', 'forgettably', 'dark', 'real', 'reason', 'made', 'Mamet', 'House', 'Games', 'fall', 'Heist', 'prevention', 'place', 'blame', 'baseball', 'macabre', 'where', 'religious', 'civic', 'virtues', 'hold', 'society', 'tatters', 'Both', 'lead', 'Oscar-size', 'actually', 'filmmakers', 'want', 'nothing', 'else', 'way', 'Whenever', 'threatens', 'bogged', 'earnest', 'dramaturgy', 'fairy', 'tale', 'comes', 'renowned', 'Indian', 'allows', 'Americans', 'preposterous', 'moments', 'seeking', 'Like', 'sizzle', 'news', 'exotic', 'creatures', 'overboard', 'loony', 'melodramatic', 'denouement', 'high', 'school', 'swimming', 'substitutes', 'bathtub', 'evanescent', 'seamless', 'sumptuous', 'stream', 'consciousness', 'only', 'quest', 'president', 'single-handedly', 'turned', 'plane', 'full', 'hard-bitten', 'cynical', 'journalists', 'was', 'essentially', 'campaign', 'extended', 'publicity', 'department', 'graced', 'Poor', 'editing', 'bluescreen', 'ultra-cheesy', 'dialogue', 'complex', 'those', 'crass', 'contrived', 'sequels', 'fails', 'second-guess', 'affection', 'original', 'position', 'Thanks', 'largely', 'emotionally', 'least', 'Wiseman', 'fatal', 'error', 'flash', 'rock', 'videos', 'rip-roaring', 're-creations', 'famous', 'gratuitous', 'distractions', 'chuckles', 'gag', 'positively', 'thrilling', 'combination', 'ethnography', 'good-bad', 'Eerily', 'moment', 'high-concept', 'candy-coat', 'spirituality', 'definite', 'room', 'improvement', 'Robert', 'Harmon', 'less-is-more', 'bump-in', '-', 'chills', 'greatest', 'triumph', 'keeping', 'creepy', 'crawlies', 'hidden', 'shadows', 'hews', 'carries', 'effortlessly', 'darkness', 'wondering', 'lives', 'offers', 'opportunities', 'Cinema', 'Paradiso', 'find', 'new', 'interesting', \"'d\", 'probably', 'turn', 'convinced', 'already', 'employ', 'kids', 'owe', 'favors', 'parents', 'companion', 'Its', 'generic', 'villains', 'lack', 'accents', 'cinema', 'wondrously', 'gifted', 'artists', 'Arthur', 'Schnitzler', 'Reigen', 'Sy', 'open-faced', 'smiling', 'madmen', 'difficult', 'worthy', 'airless', 'shell', 'games', 'latest', 'eccentric', 'super-wealthy', 'megalomaniac', 'bent', 'domination', 'destruction', 'romantic', 'Proves', 'formulas', 'messing', 'serves', 'workable', 'primer', 'region', 'Manages', 'please', 'intended', 'audience', 'placing', 'coma-like', 'state', 'occurs', '7', 'times', 'during', 'Windtalkers', 'serious-minded', 'modest', 'winning', 'misses', 'prisoner', 'Smoke', 'Signals', 'also', 'imbued', 'paralyzed', 'stoner', 'midnight', 'flick', 'sci-fi', 'deconstruction', 'cliches', 'considerable', 'dash', 'running', 'around', 'screaming', 'death', 'style', 'sincere', 'veers', 'comic', 'course', 'It', 'gets', 'doubt', 'asks', 'country', 'serious', 'ways', 'extravagant', 'chance', 'distort', 'perspective', 'throw', 'path', 'incoherence', 'despite', 'impressed', 'upon', 'injects', 'freshness', 'acting-workshop', 'exercises', 'Saddam', 'Hussein', 'In', 'cut', 'rhapsodizes', 'add', 'bleak', 'Trouble', '25', 'minutes', 'gratitude', 'basic', 'comedic', 'likes', 'franchise', 'years', 'small', 'easily', 'overshadowed', 'predictability', 'esoteric', 'musings', 'philosophy', 'emotional', 'connections', 'absorbing', 'Scarcely', 'expense', 'paid', 'pay', 'see', 'shows', 'slice', 'production', 'values', 'Malcolm', 'D.', 'Lee', 'writer', 'Ridley', 'Downright', 'transparent', 'rewrite', 'designed', 'garner', 'cooler', 'PG-13', 'rating', 'welcome', 'relief', 'stop', 'mom', 'amiable', 'degree', 'randomness', 'achieved', 'lottery', 'drawing', 'plotting', 'details', 'promenade', 'clad', 'bodies', 'Myrtle', 'Beach', 'S.C.', 'adrenaline', 'jolt', 'sudden', 'lunch', 'rush', 'diner', 'unfocused', 'hero', 'open', 'devolves', 'ends', 'satire', 'mind', 'adolescent', 'demanding', 'regular', 'shocks', 'bouts', 'Mostly', 'Martha', 'mostly', 'unsurprising', 'And', 'appreciate', 'one-sided', 'theme', 'predecessors', 'sensational', 'true-crime', 'theatres', 'many', 'things', 'delectable', 'everything', 'expect', 'number', 'tumbleweeds', 'blowing', 'terms', 'bites', 'chew', 'linking', 'massacre', 'Armenians', '1915', 'relationships', 'present', 'rut', 'life-changing', 'encounters', 'bagatelle', 'nearly', 'epic', 'proportions', 'Violent', 'superior', 'stale', 'uninspired', 'toxic', 'intoxicating', 'may', 'believe', 'puts', 'battle', 'wills', 'revelatory', 'narcissistic', 'morality', 'While', 'About', 'Boy', 'provide', 'enjoyable', '100', 'theater', 'Swimfan', 'Fatal', 'Attraction', 'brilliantly', 'played', 'deeply', 'highest', 'wears', 'Mark', 'Pellington', 'pop', 'kooky', 'overeager', 'spooky', 'subtly', 'myth', 'Mediocre', \"'m\", 'ready', 'go', 'U.N.', 'ask', 'permission', 'preemptive', 'strike', 'occasionally', 'horrifying', 'inspiring', 'expected', 'grace', 'Miyazaki', 'storytellers', 'achieving', 'cliched', 'perverse', 'escapism', 'Charming', 'apart', 'reporting', 'flickering', 'reminders', 'bind', 'Mood', 'Beautifully', 'miss', 'joyous', 'unless', 'considers', 'source', 'hilarity', 'sure', 'filmmaker', 'disagree', 'point', 'chronicle', 'smart', 'provocative', 'drama', ':', 'mention', 'company', 'overexposed', 'waste', 'gorgeously', 'atmospheric', 'meditation', 'Beating', 'sad', 'professional', 'conventional', 'comedy-drama', 'post-camp', 'old-time', 'Run', 'Do', 'judge', 'soon', 'Bloody', 'grieving', 'process', 'transcends', 'boy-meets-girl', 'posturing', 'typical', 'stories', 'outnumber', 'hits', 'three-to-one', 'appropriate', 'compelling', 'increasingly', 'diverse', 'seeing', 'great', 'deal', 'though', 'Sillier', 'cuter', 'shorter', 'remember', 'bit', 'heavy', 'handed', 'message', 'recommended', 'viewing', 'acting', 'Spielberg', 'realization', 'near-future', 'Horrendously', 'amateurish', 'plainly', 'incomprehensible', 'recognized', 'mildly', 'Changing', 'Lanes', 'mystical', 'Robinson', 'web', 'matches', 'page-turning', 'frenzy', 'Clancy', 'creates', 'heavy-handed', 'screenplay', 'Too', 'clumsy', 'key', 'splash', 'absolute', 'joy', 'poetry', 'common', 'through-line', 'pinnacle', 'going', 'house', 'party', 'watching', 'host', 'defend', 'himself', 'frothing', 'ex-girlfriend', 'sophomoric', 'romp', 'happen', 'Has', 'rare', 'capability', 'soothe', 'break', 'heart', 'single', 'stroke', 'tragedy', 'record', 'tenacious', 'fighter', 'victim', 'Well-done', 'supernatural', 'catch', 'lacks', 'quick', 'Steven', 'Schindler', 'List', 'Williams', 'developments', 'processed', '60', 'intellectual', 'lector', 'auteur', 'injuries', 'Parents', 'beware', ';', 'hopeful', 'maintaining', 'appearance', 'clinical', 'objectivity', 'start', 'speeds', 'Burr', 'Steers', 'knows', 'territory', 'particularly', 'Witty', 'Those', 'saved', 'aid', 'teeth', 'hurt', 'mawkish', 'self-parody', 'hardly', 'exist', 'responsible', 'generates', 'plot', 'What', 'begins', 'evolves', 'Imax', 'chimps', 'lots', 'blown', 'size', 'latently', 'gay', 'scattered', 'bogus', 'There', 'grenade', 'rooted', 'undergoing', 'cares', '?', 'Judith', 'Zaza', 'bedroom', 'sequence', 'bulk', 'wrong', 'heartfelt', 'middle', 'dedication', 'Aggressive', 'self-glorification', 'manipulative', 'whitewash', 'consistently', 'unimaginative', 'sophisticated', 'literate', 'such', 'pictures', 'standard', 'procedure', 'prince', 'fellow', 'survival', 'awkwardly', 'magic', 'realism', 'meaty', 'face', 'thing', 'tackled', 'subject', 'drawn', 'while', 'peppering', 'pages', 'Analyze', 'That', 'popcorn', 'Every', 'Day', 'plodding', 'Vincent', 'Gallo', 'finish', 'meaning', 'phrase', 'rambling', 'living', 'mug', 'shots', 'impeccable', 'pedigree', 'mongrel', 'pep', 'Uneven', 'nice', 'prove', 'potent', 'hell-jaunt', 'purists', 'Tolstoy', 'groupies', 'tricky', 'satisfying', 'sharp', 'homage', 'Them', 'Tarantula', 'low', '10', 'compressed', 'Tells', 'terrific', '10th-grade', 'learning', 'tool', 'smartly', 'fact', 'Disney', 'scrape', 'me', 'successful', 'dragons', 'Reign', 'Shainberg', 'adaptation', 'gander', 'amuses', 'none', 'amounts', 'Sleek', 'arty', 'daring', 'verve', 'outpaces', 'contemporaries', 'weak', 'wounds', 'inspired', 'indecipherable', 'complications', 'he', 'revealed', 'before', 'abandoned', 'consoled', 'depiction', 'depression', 'non-techies', 'Though', 'rent', 'parable', 'inexorably', 'rote', 'sentimentality', 'Hampered', \"'ve\", 'feature-length', 'antics', 'pleasure', 'cracker', 'barrel', 'reaction', 'subjects', 'furiously', 'Genuinely', 'unnerving', 'mesmerizing', '', 'disguised', 'images', 'attracts', 'unnamed', 'substitutable', 'forces', 'serve', 'terror', \"'ll\", 'admit', 'my', 'complaint', 'Amid', 'shock', 'curiosity', 'factors', 'actress', 'idealistic', 'kid', 'chooses', 'champion', 'cause', 'pretentiousness', 'Damon', 'Wilde', 'surprising', 'lazy', 'budget', 'B-movie', 'thrillers', '1950s', \"'60s\", 'Campanella', 'directed', 'expedience', 'roiling', 'documentary', 'Sunday', 'flair', 'slight', 'poem', 'eyes', 'put', 'hairs', 'chest', 'told', 'liking', 'Ice', 'Age', 'given', 'day', 'comprehensible', 'Dummies', 'guide', 'Daughter', 'frame', 'Intriguing', 'downright', 'completely', 'emphasis', 'James', 'Eric', 'Horton', 'Peter', \"O'Fallon\", 'stirring', 'dog', 'Winds', 'being', 'both', 'surge', 'swirling', 'rapids', 'leap', 'rouses', 'mainland', 'setting', 'Transforms', 'Shakespeare', 'deepest', 'tragedies', 'proud', 'Ki-Deok', 'After', 'woman', 'run-of-the-mill', 'ruthless', 'social', 'order', 'governs', 'college', 'cliques', 'flame-like', 'trembling', 'progression', 'two', 'skittish', 'New', 'York', 'middle-agers', 'stumble', 'relationship', 'struggle', 'fears', 'foibles', 'Mary', 'Gaitskill', 'harrowing', 'improved', 'destination', 'mixed', 'results', 'escapades', 'demonstrating', 'adage', 'wo', 'safe', 'Plays', 'vignettes', 'clips', 'Pow', 'Swimming', 'radical', 'Just', 'everyone', 'involved', 'coasting', 'But', 'followed', 'runaway', 'Full', 'Monty', 'inept', 'Jones', 'Evokes', 'David', 'raunch', 'favor', 'gags', 'rely', 'strength', 'cleverness', 'Report', 'card', 'Does', 'live', 'exalted', 'tagline', 'sidekicks', 'Devos', 'Oedekerk', 'childhood', 'dream', 'martial-arts', 'lose', 'above', 'Shakespearean', 'Less', 'efforts', 'toward', 'closure', 'highlight', 'Spalding', 'Gray', 'teen', 'gross-out', 'Love', 'Hong', 'Kong', 'From', 'Danang', 'reveals', 'scientific', 'law', 'discerned', 'producers', 'heed', 'Hatfield', 'Hicks', 'oddest', 'couples', 'becomes', 'study', 'gambles', 'publishing', 'offering', 'exists', 'political', 'ramifications', 'glacial', 'pacing', 'fan', 'fantasia', 'Monte', 'Cristo', 'war-ravaged', 'land', 'unlikely', 'Sarah', 'Harrison', 'keen', 'insights', 'parapsychological', 'phenomena', 'soulful', 'Jolting', 'under', 'skin', 'freakish', 'seem', 'saw', 'TV', '300', 'Russian', 'mighty', 'Ivan', 'swear', 'rest', 'game', 'hooked', 'As', 'Storytelling', 'version', 'Quiet', 'creature-feature', 'Shyamalan', 'boilerplate', 'punch', 'lines', 'unfortunately', 'double-cross', 'Swinging', 'hobby', 'Nothing', 'various', 'eventually', 'All', 'arch', 'cold-blooded', 'Claude', 'Chabrol', 'camera', 'Entertains', 'Kim', 'tenderness', 'takes', 'generate', 'heat', 'juicy', 'soap', 'opera', 'Cho', 'creating', 'navigates', 'fast', 'fade', '!', 'blaxploitation', 'spoof', 'downplays', 'opposed', 'extent', 'outrageousness', 'fest', 'Using', 'stock', 'scruffy', 'slip', 'convincing', 'dizzily', 'gorgeous', 'nor', 'Narratively', 'drive-by', 'tentative', 'familiar', 'anti-feminist', 'equation', '=', 'misery', 'ambition', 'whole', 'staring', 'Kendall', 'structure', 'Offers', 'Initial', 'strangeness', 'Q', 'Quirky', 'Now', 'former', 'Gong', 'Show', 'addict', 'enthusiasm', 'Not', 'scares', 'cross', 'chemicals', 'bunch', 'totally', 'unexpected', 'directions', 'Green', 'arriving', 'core', 'Tartakovsky', 'powers', 'memory', 'monsterous', 'penance', 'cowering', 'begging', 'feet', 'Giannini', 'Narc', 'strikes', 'defiantly', 'retro', 'chord', 'willingness', 'experiment', 'explosions', 'early', 'trusted', 'sort', 'toothless', 'book', 'Favor', 'document', 'Comes', 'across', 'Highly', 'Contrived', 'depressing', 'ruthlessly', 'pained', 'depraved', 'wound', 'Scherfig', 'five', 'writers', 'He', 'Fresnadillo', 'Videodrome', '100-minute', 'Something', 'co-writer', 'Ed', 'Decter', 'senses', 'mean-spirited', 'Before', 'broken', 'outweighs', 'loss', 'witness', 'visible', 'His', 'preach', 'exclusively', 'converted', 'Writer\\\\/director', 'Kung', 'Seeing', 'momentum', 'remains', 'undeterminable', 'roughshod', 'sensibilities', 'makers']\n"
     ]
    }
   ],
   "source": [
    "# finding the unique values from the phrase\n",
    "unique_words = list(df['Phrase'].str.split(' ', expand=True).stack().unique())\n",
    "\n",
    "print(unique_words)"
   ]
  },
  {
   "cell_type": "code",
   "execution_count": 7,
   "metadata": {},
   "outputs": [
    {
     "name": "stdout",
     "output_type": "stream",
     "text": [
      "the         995\n",
      ",           817\n",
      "a           740\n",
      "and         702\n",
      "of          701\n",
      "           ... \n",
      "generate      1\n",
      "Favor         1\n",
      "!             1\n",
      "Just          1\n",
      "primary       1\n",
      "Length: 1979, dtype: int64\n"
     ]
    }
   ],
   "source": [
    "# count the unique word from phrase\n",
    "unique_word_count = df.Phrase.str.split(' ', expand=True).stack().value_counts()\n",
    "\n",
    "print(unique_word_count)"
   ]
  },
  {
   "cell_type": "markdown",
   "metadata": {},
   "source": [
    "Here, the must frequent word is `the` and total number of unique words is `1979`."
   ]
  },
  {
   "cell_type": "code",
   "execution_count": 8,
   "metadata": {},
   "outputs": [
    {
     "data": {
      "text/html": [
       "<div>\n",
       "<style scoped>\n",
       "    .dataframe tbody tr th:only-of-type {\n",
       "        vertical-align: middle;\n",
       "    }\n",
       "\n",
       "    .dataframe tbody tr th {\n",
       "        vertical-align: top;\n",
       "    }\n",
       "\n",
       "    .dataframe thead th {\n",
       "        text-align: right;\n",
       "    }\n",
       "</style>\n",
       "<table border=\"1\" class=\"dataframe\">\n",
       "  <thead>\n",
       "    <tr style=\"text-align: right;\">\n",
       "      <th></th>\n",
       "      <th>Phrase</th>\n",
       "      <th>label</th>\n",
       "      <th>WordCount</th>\n",
       "    </tr>\n",
       "  </thead>\n",
       "  <tbody>\n",
       "    <tr>\n",
       "      <td>0</td>\n",
       "      <td>Spider-man is better than any summer blockbust...</td>\n",
       "      <td>Positive</td>\n",
       "      <td>27</td>\n",
       "    </tr>\n",
       "    <tr>\n",
       "      <td>1</td>\n",
       "      <td>of good sense</td>\n",
       "      <td>Positive</td>\n",
       "      <td>3</td>\n",
       "    </tr>\n",
       "    <tr>\n",
       "      <td>2</td>\n",
       "      <td>, then knock yourself out and enjoy the big sc...</td>\n",
       "      <td>Negative</td>\n",
       "      <td>19</td>\n",
       "    </tr>\n",
       "    <tr>\n",
       "      <td>3</td>\n",
       "      <td>So could young romantics out on a date .</td>\n",
       "      <td>Positive</td>\n",
       "      <td>9</td>\n",
       "    </tr>\n",
       "    <tr>\n",
       "      <td>4</td>\n",
       "      <td>humour</td>\n",
       "      <td>Positive</td>\n",
       "      <td>1</td>\n",
       "    </tr>\n",
       "  </tbody>\n",
       "</table>\n",
       "</div>"
      ],
      "text/plain": [
       "                                              Phrase     label  WordCount\n",
       "0  Spider-man is better than any summer blockbust...  Positive         27\n",
       "1                                      of good sense  Positive          3\n",
       "2  , then knock yourself out and enjoy the big sc...  Negative         19\n",
       "3           So could young romantics out on a date .  Positive          9\n",
       "4                                             humour  Positive          1"
      ]
     },
     "execution_count": 8,
     "metadata": {},
     "output_type": "execute_result"
    }
   ],
   "source": [
    "# counting the workds in each row\n",
    "df['WordCount'] = df['Phrase'].str.split().str.len()\n",
    "\n",
    "df.head()"
   ]
  },
  {
   "cell_type": "code",
   "execution_count": 9,
   "metadata": {},
   "outputs": [
    {
     "data": {
      "text/html": [
       "<div>\n",
       "<style scoped>\n",
       "    .dataframe tbody tr th:only-of-type {\n",
       "        vertical-align: middle;\n",
       "    }\n",
       "\n",
       "    .dataframe tbody tr th {\n",
       "        vertical-align: top;\n",
       "    }\n",
       "\n",
       "    .dataframe thead th {\n",
       "        text-align: right;\n",
       "    }\n",
       "</style>\n",
       "<table border=\"1\" class=\"dataframe\">\n",
       "  <thead>\n",
       "    <tr style=\"text-align: right;\">\n",
       "      <th></th>\n",
       "      <th>Phrase</th>\n",
       "      <th>label</th>\n",
       "      <th>WordCount</th>\n",
       "    </tr>\n",
       "  </thead>\n",
       "  <tbody>\n",
       "    <tr>\n",
       "      <td>981</td>\n",
       "      <td></td>\n",
       "      <td>Negative</td>\n",
       "      <td>0</td>\n",
       "    </tr>\n",
       "  </tbody>\n",
       "</table>\n",
       "</div>"
      ],
      "text/plain": [
       "    Phrase     label  WordCount\n",
       "981         Negative          0"
      ]
     },
     "execution_count": 9,
     "metadata": {},
     "output_type": "execute_result"
    }
   ],
   "source": [
    "# checking if there is empyt Phrase or not\n",
    "df[df['WordCount'] == 0]"
   ]
  },
  {
   "cell_type": "code",
   "execution_count": 10,
   "metadata": {},
   "outputs": [
    {
     "data": {
      "text/plain": [
       "(2799, 3)"
      ]
     },
     "execution_count": 10,
     "metadata": {},
     "output_type": "execute_result"
    }
   ],
   "source": [
    "# dropping the index which has no phrase\n",
    "df.drop(df[df['WordCount'] == 0].index, inplace=True)\n",
    "\n",
    "df.shape"
   ]
  },
  {
   "cell_type": "code",
   "execution_count": 11,
   "metadata": {},
   "outputs": [
    {
     "data": {
      "image/png": "[encoded data removed]",
      "text/plain": [
       "<Figure size 432x288 with 1 Axes>"
      ]
     },
     "metadata": {},
     "output_type": "display_data"
    }
   ],
   "source": [
    "# plotting the pie chart\n",
    "pos_total = len(df[df['label'] == 'Positive'])\n",
    "neg_total = len(df[df['label'] == 'Negative'])\n",
    "\n",
    "textprops = {'fontsize': 14}\n",
    "plt.pie(x=[pos_total, neg_total], labels=['Positive Label', 'Negative Label'], textprops=textprops, autopct='%0.1f%%', radius=1.4)\n",
    "\n",
    "plt.legend()\n",
    "plt.show()"
   ]
  },
  {
   "cell_type": "code",
   "execution_count": 12,
   "metadata": {
    "scrolled": false
   },
   "outputs": [
    {
     "data": {
      "image/png": "[encoded data removed]",
      "text/plain": [
       "<Figure size 360x360 with 1 Axes>"
      ]
     },
     "metadata": {
      "needs_background": "light"
     },
     "output_type": "display_data"
    }
   ],
   "source": [
    "# average wordcount par plot\n",
    "\n",
    "sns.catplot(x='label', y='WordCount', data=df, kind='bar', hue='label')\n",
    "plt.show()"
   ]
  },
  {
   "cell_type": "code",
   "execution_count": 13,
   "metadata": {},
   "outputs": [
    {
     "data": {
      "image/png": "[encoded data removed]",
      "text/plain": [
       "<Figure size 360x360 with 1 Axes>"
      ]
     },
     "metadata": {
      "needs_background": "light"
     },
     "output_type": "display_data"
    }
   ],
   "source": [
    "# plotting the categorical data\n",
    "\n",
    "sns.catplot(x='label', y='WordCount', data=df, kind='point', hue='label')\n",
    "plt.show()"
   ]
  },
  {
   "cell_type": "markdown",
   "metadata": {},
   "source": [
    "The above plots shows that the `Negative` label has slightly more word count than the `Positive` word count in general."
   ]
  },
  {
   "cell_type": "markdown",
   "metadata": {},
   "source": [
    "**Feature Extraction**"
   ]
  },
  {
   "cell_type": "markdown",
   "metadata": {},
   "source": [
    "Seperating the train, test & validation dataset."
   ]
  },
  {
   "cell_type": "code",
   "execution_count": 16,
   "metadata": {},
   "outputs": [
    {
     "name": "stdout",
     "output_type": "stream",
     "text": [
      "Total Length:  2799\n",
      "Train Length:  1679\n",
      "Validation Length:  559\n",
      "Test Length:  559\n"
     ]
    }
   ],
   "source": [
    "# seperating train, test and validate set\n",
    "total_len = len(df)\n",
    "train_len = int(0.6 * total_len)\n",
    "val_len = int(0.2 * total_len)\n",
    "\n",
    "print('Total Length: ', total_len)\n",
    "print('Train Length: ', train_len)\n",
    "print('Validation Length: ', val_len)\n",
    "print('Test Length: ', val_len)"
   ]
  },
  {
   "cell_type": "code",
   "execution_count": 19,
   "metadata": {},
   "outputs": [
    {
     "name": "stdout",
     "output_type": "stream",
     "text": [
      "train_df len:  1679\n",
      "val_df len:  559\n",
      "test_df len:  561\n"
     ]
    }
   ],
   "source": [
    "# splitting dataset into train, test & val datset\n",
    "train_df = df[: train_len]\n",
    "val_df = df[train_len: train_len + val_len]\n",
    "test_df = df[train_len + val_len: ]\n",
    "\n",
    "print('train_df len: ', len(train_df))\n",
    "print('val_df len: ', len(val_df))\n",
    "print('test_df len: ', len(test_df))"
   ]
  },
  {
   "cell_type": "markdown",
   "metadata": {},
   "source": [
    "Extracting unique vocal from the training dataset."
   ]
  },
  {
   "cell_type": "code",
   "execution_count": 22,
   "metadata": {},
   "outputs": [
    {
     "name": "stdout",
     "output_type": "stream",
     "text": [
      "Vocab length:  13853\n",
      "Unique vocab length:  1843\n"
     ]
    }
   ],
   "source": [
    "vocab = list()\n",
    "\n",
    "for i in train_df['Phrase'].tolist():\n",
    "    vocab.extend(i.split(' '))\n",
    "    \n",
    "unique_vocab = list(set(vocab))\n",
    "\n",
    "print('Vocab length: ', len(vocab))\n",
    "print('Unique vocab length: ', len(unique_vocab))"
   ]
  },
  {
   "cell_type": "code",
   "execution_count": 23,
   "metadata": {},
   "outputs": [],
   "source": [
    "def feature_extraction(unique_vocab, dataset):\n",
    "    \n",
    "    # vectorizing the phrase\n",
    "    feature = []\n",
    "    label = []\n",
    "    \n",
    "    for index, row in dataset.iterrows():\n",
    "        row_words = row['Phrase'].split(' ')\n",
    "        \n",
    "        f = []\n",
    "        for v in unique_vocab:\n",
    "            if v in row_words:\n",
    "                f.append(1)\n",
    "            else:\n",
    "                f.append(0)\n",
    "                \n",
    "        if row['label'] == 'Positive':\n",
    "            label.append(1)\n",
    "        elif row['label'] == 'Negative':\n",
    "            label.append(0)\n",
    "            \n",
    "        feature.append(f)\n",
    "    \n",
    "    # converting into numpy array\n",
    "    feature = np.array(feature)\n",
    "    label = np.array(label)\n",
    "    \n",
    "    # changing label into 2d array\n",
    "    label = label.reshape(-1, 1)\n",
    "    print('Feature shape: ', feature.shape)\n",
    "    \n",
    "    return feature, label"
   ]
  },
  {
   "cell_type": "code",
   "execution_count": 24,
   "metadata": {},
   "outputs": [
    {
     "name": "stdout",
     "output_type": "stream",
     "text": [
      "Feature shape:  (1679, 1843)\n",
      "Feature shape:  (559, 1843)\n",
      "Feature shape:  (561, 1843)\n"
     ]
    }
   ],
   "source": [
    "# creating X_train, y_train of feature and label from a dataset\n",
    "X_train, y_train = feature_extraction(unique_vocab, train_df)\n",
    "X_val, y_val = feature_extraction(unique_vocab, val_df)\n",
    "X_test, y_test = feature_extraction(unique_vocab, test_df)"
   ]
  },
  {
   "cell_type": "code",
   "execution_count": 25,
   "metadata": {},
   "outputs": [],
   "source": [
    "# Adding bias to x data\n",
    "X_train = np.insert(X_train, 0, values=1, axis=1)\n",
    "X_val = np.insert(X_val, 0, values=1, axis=1)\n",
    "X_test = np.insert(X_test, 0, values=1, axis=1)"
   ]
  },
  {
   "cell_type": "markdown",
   "metadata": {},
   "source": [
    "Here, all our data is `0 and 1`. so, we dnt have to do any normalization here."
   ]
  },
  {
   "cell_type": "markdown",
   "metadata": {},
   "source": [
    "**Grid Search**"
   ]
  },
  {
   "cell_type": "code",
   "execution_count": 27,
   "metadata": {},
   "outputs": [],
   "source": [
    "np.random.seed(42)\n",
    "\n",
    "params = {\n",
    "    'num_of_iteration': 1000,\n",
    "    'learning_rate': 0.001\n",
    "}\n",
    "\n",
    "grid_params = {\n",
    "    'num_of_iteration': [1000, 1500, 2000, 2500], \n",
    "    'learning_rate': [0.001, 0.01, 0.1, 0.6]\n",
    "}"
   ]
  },
  {
   "cell_type": "markdown",
   "metadata": {},
   "source": [
    "Binary Cross Entropy Loss and Sigmoid function"
   ]
  },
  {
   "cell_type": "code",
   "execution_count": 28,
   "metadata": {},
   "outputs": [],
   "source": [
    "# bcel\n",
    "def binary_cross_entropy_loss(h, y):\n",
    "    m = len(h)\n",
    "    \n",
    "    return -np.average(y * np.log(h) + (1 - y) * np.log(1 - h))\n",
    "\n",
    "\n",
    "# sigmoid function\n",
    "def sigmoid(x):\n",
    "    return 1 / (1 + np.exp(-x))"
   ]
  },
  {
   "cell_type": "markdown",
   "metadata": {},
   "source": [
    "Training Model"
   ]
  },
  {
   "cell_type": "code",
   "execution_count": 29,
   "metadata": {},
   "outputs": [],
   "source": [
    "def train_model(X_train, y_train, X_val, y_val, params):\n",
    "    train_error = []\n",
    "    w = np.random.rand(X_train.shape[1]).reshape(-1, 1)\n",
    "    \n",
    "    for i in range(0, params['num_of_iterations']):\n",
    "        h_train = sigmoid(np.matmul(X_train, w))\n",
    "        train_loss = binary_cross_entropy_loss(h_train, y_train)\n",
    "        train_error.append(train_loss)\n",
    "        \n",
    "        gradient_descent = (np.matmul(np.transpose(X_train), (h_train - y_train))) / X_train.shape[0]\n",
    "        w = w - params['learning_rate'] * gradient_descent\n",
    "        \n",
    "    \n",
    "    h_val = sigmoid(np.matmul(X_val, w))\n",
    "    val_loss = binary_cross_entropy_loss(h_val, y_val)\n",
    "    print(params, val_loss)\n",
    "    \n",
    "    return w, train_error"
   ]
  },
  {
   "cell_type": "markdown",
   "metadata": {},
   "source": [
    "**Parameter with val loss**"
   ]
  },
  {
   "cell_type": "code",
   "execution_count": 31,
   "metadata": {},
   "outputs": [
    {
     "name": "stdout",
     "output_type": "stream",
     "text": [
      "{'num_of_iterations': 1000, 'learning_rate': 0.001} 1.4593497866218992\n",
      "{'num_of_iterations': 1000, 'learning_rate': 0.01} 0.8916758730910846\n",
      "{'num_of_iterations': 1000, 'learning_rate': 0.1} 0.5552828426718963\n",
      "{'num_of_iterations': 1000, 'learning_rate': 0.6} 0.4058936846842115\n",
      "{'num_of_iterations': 1500, 'learning_rate': 0.001} 1.3609936822386934\n",
      "{'num_of_iterations': 1500, 'learning_rate': 0.01} 0.8554623226830117\n",
      "{'num_of_iterations': 1500, 'learning_rate': 0.1} 0.5320832129012135\n",
      "{'num_of_iterations': 1500, 'learning_rate': 0.6} 0.3846666832920364\n",
      "{'num_of_iterations': 2000, 'learning_rate': 0.001} 1.2875999923591088\n",
      "{'num_of_iterations': 2000, 'learning_rate': 0.01} 0.7895518938559557\n",
      "{'num_of_iterations': 2000, 'learning_rate': 0.1} 0.514189997981818\n",
      "{'num_of_iterations': 2000, 'learning_rate': 0.6} 0.3653870117713219\n",
      "{'num_of_iterations': 2500, 'learning_rate': 0.001} 1.264794362599046\n",
      "{'num_of_iterations': 2500, 'learning_rate': 0.01} 0.7482513782130533\n",
      "{'num_of_iterations': 2500, 'learning_rate': 0.1} 0.4802926312744272\n",
      "{'num_of_iterations': 2500, 'learning_rate': 0.6} 0.3448030512603277\n"
     ]
    }
   ],
   "source": [
    "# grid search\n",
    "import itertools\n",
    "\n",
    "grid = list(itertools.product(grid_params['num_of_iteration'], grid_params['learning_rate']))\n",
    "\n",
    "\n",
    "for g in grid:\n",
    "    p = {\n",
    "        'num_of_iterations': g[0],\n",
    "        'learning_rate': g[1]\n",
    "    }\n",
    "    \n",
    "    train_model(X_train, y_train, X_val, y_val, p)"
   ]
  },
  {
   "cell_type": "code",
   "execution_count": 33,
   "metadata": {},
   "outputs": [
    {
     "name": "stdout",
     "output_type": "stream",
     "text": [
      "{'num_of_iterations': 2500, 'learning_rate': 0.6} 0.34336854752113327\n"
     ]
    }
   ],
   "source": [
    "final_params = {\n",
    "    'num_of_iterations': 2500,\n",
    "    'learning_rate': 0.6\n",
    "}\n",
    "\n",
    "final_weights, train_loss = train_model(X_train, y_train, X_val, y_val, final_params)"
   ]
  },
  {
   "cell_type": "markdown",
   "metadata": {},
   "source": [
    "**Train loss plot in the best model**"
   ]
  },
  {
   "cell_type": "code",
   "execution_count": 37,
   "metadata": {},
   "outputs": [
    {
     "data": {
      "image/png": "[encoded data removed]",
      "text/plain": [
       "<Figure size 1008x576 with 1 Axes>"
      ]
     },
     "metadata": {
      "needs_background": "light"
     },
     "output_type": "display_data"
    }
   ],
   "source": [
    "# plotting train_loss vs number of iteration\n",
    "plt.figure(figsize=(14, 8))\n",
    "\n",
    "plt.plot(train_loss)\n",
    "\n",
    "plt.title('Train loss vs. No. of iteration', fontsize=14)\n",
    "plt.xlabel('Number of iterations', fontsize=12)\n",
    "plt.ylabel('Training loss', fontsize=12)\n",
    "\n",
    "plt.grid()\n",
    "plt.show()"
   ]
  },
  {
   "cell_type": "markdown",
   "metadata": {},
   "source": [
    "This shows that our `training loss` is decreses with increaing in `number of iterations`."
   ]
  },
  {
   "cell_type": "code",
   "execution_count": null,
   "metadata": {},
   "outputs": [],
   "source": [
    "**Model Evaluation**"
   ]
  },
  {
   "cell_type": "code",
   "execution_count": 40,
   "metadata": {},
   "outputs": [],
   "source": [
    "def prediction_data(X_test, final_weights, threshold):\n",
    "    predictions = sigmoid(np.matmul(X_test, final_weights))\n",
    "    final_predictions = []\n",
    "    \n",
    "    for x in predictions:\n",
    "        if x >= threshold:\n",
    "            final_predictions.append(1)\n",
    "        else:\n",
    "            final_predictions.append(0)\n",
    "            \n",
    "    return final_predictions\n",
    "\n",
    "\n",
    "# predictions\n",
    "prediction = prediction_data(X_test, final_weights, 0.5)"
   ]
  },
  {
   "cell_type": "code",
   "execution_count": 44,
   "metadata": {},
   "outputs": [],
   "source": [
    "# confusion matrix function\n",
    "def get_confusion_matrix(actual, predicted):\n",
    "    confusion_matrix = np.zeros((2, 2))\n",
    "    \n",
    "    for x, y in zip(actual, predicted):\n",
    "        confusion_matrix[x, y] += 1\n",
    "        \n",
    "    return confusion_matrix"
   ]
  },
  {
   "cell_type": "code",
   "execution_count": 45,
   "metadata": {},
   "outputs": [
    {
     "name": "stdout",
     "output_type": "stream",
     "text": [
      "[[150.  63.]\n",
      " [ 30. 318.]]\n"
     ]
    }
   ],
   "source": [
    "# get confusion matrix\n",
    "confusion_matrix = get_confusion_matrix(y_test, prediction)\n",
    "\n",
    "print(confusion_matrix)"
   ]
  },
  {
   "cell_type": "code",
   "execution_count": 46,
   "metadata": {},
   "outputs": [
    {
     "name": "stdout",
     "output_type": "stream",
     "text": [
      "Accuracy:  0.8342245989304813\n"
     ]
    }
   ],
   "source": [
    "# accuracy\n",
    "accuracy = (confusion_matrix[0][0] + confusion_matrix[1][1]) / np.sum(confusion_matrix)\n",
    "\n",
    "print('Accuracy: ', accuracy)"
   ]
  },
  {
   "cell_type": "code",
   "execution_count": 47,
   "metadata": {},
   "outputs": [
    {
     "name": "stdout",
     "output_type": "stream",
     "text": [
      "Recall:  0.704225352112676\n"
     ]
    }
   ],
   "source": [
    "# recall = TP / (TP +FN)\n",
    "recall = (confusion_matrix[0][0]) / (confusion_matrix[0][0] + confusion_matrix[0][1])\n",
    "\n",
    "print('Recall: ', recall)"
   ]
  },
  {
   "cell_type": "code",
   "execution_count": 48,
   "metadata": {},
   "outputs": [
    {
     "name": "stdout",
     "output_type": "stream",
     "text": [
      "Precision:  0.8333333333333334\n"
     ]
    }
   ],
   "source": [
    "# Precision = TP / (TP + FP)\n",
    "precision = (confusion_matrix[0][0]) / (confusion_matrix[0][0] + confusion_matrix[1][0])\n",
    "\n",
    "print('Precision: ', precision)"
   ]
  },
  {
   "cell_type": "code",
   "execution_count": 49,
   "metadata": {},
   "outputs": [
    {
     "name": "stdout",
     "output_type": "stream",
     "text": [
      "F1 score:  0.7633587786259541\n"
     ]
    }
   ],
   "source": [
    "# F1-Score\n",
    "f1_score = (2 * recall * precision) / (recall + precision)\n",
    "\n",
    "print('F1 score: ', f1_score)"
   ]
  },
  {
   "cell_type": "code",
   "execution_count": 51,
   "metadata": {},
   "outputs": [],
   "source": [
    "# contructing ROC curve\n",
    "tpr = []\n",
    "fpr = []\n",
    "\n",
    "for threshold in np.arange(0, 1, 0.1):\n",
    "    prediction = prediction_data(X_test, final_weights, threshold)\n",
    "    confusion_matrix = get_confusion_matrix(y_test, prediction)\n",
    "    \n",
    "    t_p_r = (confusion_matrix[0][0]) / (confusion_matrix[0][0] + confusion_matrix[0][1])\n",
    "    f_p_r = (confusion_matrix[1][0]) / (confusion_matrix[1][0] + confusion_matrix[1][1])\n",
    "    \n",
    "    tpr.append(t_p_r)\n",
    "    fpr.append(f_p_r)"
   ]
  },
  {
   "cell_type": "markdown",
   "metadata": {},
   "source": [
    "Plotting ROC curve"
   ]
  },
  {
   "cell_type": "code",
   "execution_count": 52,
   "metadata": {},
   "outputs": [
    {
     "data": {
      "image/png": "[encoded data removed]",
      "text/plain": [
       "<Figure size 1008x576 with 1 Axes>"
      ]
     },
     "metadata": {
      "needs_background": "light"
     },
     "output_type": "display_data"
    }
   ],
   "source": [
    "# ROC curve\n",
    "plt.figure(figsize = (14, 8))\n",
    "\n",
    "base = np.arange(0,1,0.1)\n",
    "plt.plot(fpr, tpr, linestyle = '--', label = 'ROC Curve')\n",
    "plt.plot(base, base, label = 'Base Line')\n",
    "\n",
    "plt.title('ROC Curve', fontsize = 20)\n",
    "plt.xlabel('False Positive Rate', fontsize = 14)\n",
    "plt.ylabel('True Positive Rate', fontsize = 14)\n",
    "\n",
    "plt.legend()\n",
    "plt.show()"
   ]
  },
  {
   "cell_type": "code",
   "execution_count": null,
   "metadata": {},
   "outputs": [],
   "source": []
  }
 ],
 "metadata": {
  "kernelspec": {
   "display_name": "Python 3",
   "language": "python",
   "name": "python3"
  },
  "language_info": {
   "codemirror_mode": {
    "name": "ipython",
    "version": 3
   },
   "file_extension": ".py",
   "mimetype": "text/x-python",
   "name": "python",
   "nbconvert_exporter": "python",
   "pygments_lexer": "ipython3",
   "version": "3.7.4"
  }
 },
 "nbformat": 4,
 "nbformat_minor": 2
}
